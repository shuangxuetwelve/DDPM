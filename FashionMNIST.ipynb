{
 "cells": [
  {
   "attachments": {},
   "cell_type": "markdown",
   "metadata": {},
   "source": [
    "# Denoising Diffusion Probabilistic Models (DDPM) on MNIST"
   ]
  },
  {
   "cell_type": "code",
   "execution_count": 1,
   "metadata": {},
   "outputs": [],
   "source": [
    "# Python imports\n",
    "import random\n",
    "import math\n",
    "import abc\n",
    "import os\n",
    "\n",
    "# PyTorch imports\n",
    "import torch\n",
    "import torchvision\n",
    "\n",
    "# Third-party imports\n",
    "import matplotlib.pyplot as plt\n",
    "from tabulate import tabulate\n",
    "\n",
    "# Own imports\n",
    "import utils"
   ]
  },
  {
   "attachments": {},
   "cell_type": "markdown",
   "metadata": {},
   "source": [
    "## 0. Constants"
   ]
  },
  {
   "cell_type": "code",
   "execution_count": 24,
   "metadata": {},
   "outputs": [],
   "source": [
    "# Hyper-parameters.\n",
    "LEARNING_RATE = 5e-4\n",
    "EPOCHS = 10\n",
    "BATCH_SIZE = 64\n",
    "DROPOUT = 0.1\n",
    "\n",
    "# Diffusion model parameters.\n",
    "TIME_STEPS = 500\n",
    "\n",
    "# UNet model parameters.\n",
    "MODEL_CHANNELS = 96\n",
    "GROUP_NORM_GROUPS = 32\n",
    "\n",
    "# Dataset parameters.\n",
    "WIDTH = 28\n",
    "HEIGHT = 28\n",
    "CHANNELS = 1\n",
    "\n",
    "# Others\n",
    "SAVED_FILENAME = 'FashionMNIST'"
   ]
  },
  {
   "attachments": {},
   "cell_type": "markdown",
   "metadata": {},
   "source": [
    "### 0.1. Device"
   ]
  },
  {
   "cell_type": "code",
   "execution_count": 3,
   "metadata": {},
   "outputs": [
    {
     "name": "stdout",
     "output_type": "stream",
     "text": [
      "Use device [cuda].\n"
     ]
    }
   ],
   "source": [
    "DEVICE = 'cuda' if torch.cuda.is_available() else 'mps' if torch.backends.mps.is_available() else 'cpu'\n",
    "\n",
    "# Print the device to run the model.\n",
    "print(f\"Use device [{DEVICE}].\")"
   ]
  },
  {
   "attachments": {},
   "cell_type": "markdown",
   "metadata": {},
   "source": [
    "## 1. Dataset"
   ]
  },
  {
   "cell_type": "code",
   "execution_count": 4,
   "metadata": {},
   "outputs": [
    {
     "name": "stdout",
     "output_type": "stream",
     "text": [
      "Downloading http://fashion-mnist.s3-website.eu-central-1.amazonaws.com/train-images-idx3-ubyte.gz\n",
      "Downloading http://fashion-mnist.s3-website.eu-central-1.amazonaws.com/train-images-idx3-ubyte.gz to ./data\\FashionMNIST\\raw\\train-images-idx3-ubyte.gz\n"
     ]
    },
    {
     "name": "stderr",
     "output_type": "stream",
     "text": [
      "100%|██████████| 26421880/26421880 [00:03<00:00, 8606871.46it/s] \n"
     ]
    },
    {
     "name": "stdout",
     "output_type": "stream",
     "text": [
      "Extracting ./data\\FashionMNIST\\raw\\train-images-idx3-ubyte.gz to ./data\\FashionMNIST\\raw\n",
      "\n",
      "Downloading http://fashion-mnist.s3-website.eu-central-1.amazonaws.com/train-labels-idx1-ubyte.gz\n",
      "Downloading http://fashion-mnist.s3-website.eu-central-1.amazonaws.com/train-labels-idx1-ubyte.gz to ./data\\FashionMNIST\\raw\\train-labels-idx1-ubyte.gz\n"
     ]
    },
    {
     "name": "stderr",
     "output_type": "stream",
     "text": [
      "100%|██████████| 29515/29515 [00:00<00:00, 186535.56it/s]\n"
     ]
    },
    {
     "name": "stdout",
     "output_type": "stream",
     "text": [
      "Extracting ./data\\FashionMNIST\\raw\\train-labels-idx1-ubyte.gz to ./data\\FashionMNIST\\raw\n",
      "\n",
      "Downloading http://fashion-mnist.s3-website.eu-central-1.amazonaws.com/t10k-images-idx3-ubyte.gz\n",
      "Downloading http://fashion-mnist.s3-website.eu-central-1.amazonaws.com/t10k-images-idx3-ubyte.gz to ./data\\FashionMNIST\\raw\\t10k-images-idx3-ubyte.gz\n"
     ]
    },
    {
     "name": "stderr",
     "output_type": "stream",
     "text": [
      "100%|██████████| 4422102/4422102 [00:01<00:00, 3411962.58it/s]\n"
     ]
    },
    {
     "name": "stdout",
     "output_type": "stream",
     "text": [
      "Extracting ./data\\FashionMNIST\\raw\\t10k-images-idx3-ubyte.gz to ./data\\FashionMNIST\\raw\n",
      "\n",
      "Downloading http://fashion-mnist.s3-website.eu-central-1.amazonaws.com/t10k-labels-idx1-ubyte.gz\n",
      "Downloading http://fashion-mnist.s3-website.eu-central-1.amazonaws.com/t10k-labels-idx1-ubyte.gz to ./data\\FashionMNIST\\raw\\t10k-labels-idx1-ubyte.gz\n"
     ]
    },
    {
     "name": "stderr",
     "output_type": "stream",
     "text": [
      "100%|██████████| 5148/5148 [00:00<00:00, 5013298.58it/s]\n"
     ]
    },
    {
     "name": "stdout",
     "output_type": "stream",
     "text": [
      "Extracting ./data\\FashionMNIST\\raw\\t10k-labels-idx1-ubyte.gz to ./data\\FashionMNIST\\raw\n",
      "\n"
     ]
    }
   ],
   "source": [
    "# 1. Each item in dataset is a tuple of (torch.Tensor, int). The first tensor is of shape (CHANNELS, HEIGHT, WIDTH) and dtype torch.float32, which is the image.\n",
    "# 2. I use a custom utils.FashionMNIST to load and cache the dataset, so that reading from hard drive during training is avoided.\n",
    "dataset = utils.FashionMNIST(\n",
    "    './data',\n",
    "    train=True,\n",
    "    transform=torchvision.transforms.Compose([\n",
    "        torchvision.transforms.ToTensor(),\n",
    "    ]),\n",
    ")\n",
    "\n",
    "# samples = next(iter(dataloader))\n",
    "# samples is a Python list of len 2.\n",
    "# samples[0] is a tensor of shape (BATCH_SIZE, CHANNELS, WIDTH, HEIGHT)\n",
    "# samples[1] is a tensor of shape (BATCH_SIZE,)\n",
    "dataloader = torch.utils.data.DataLoader(dataset, batch_size=BATCH_SIZE, shuffle=True)"
   ]
  },
  {
   "attachments": {},
   "cell_type": "markdown",
   "metadata": {},
   "source": [
    "Inspect statistics of the dataset."
   ]
  },
  {
   "cell_type": "code",
   "execution_count": 5,
   "metadata": {},
   "outputs": [
    {
     "name": "stdout",
     "output_type": "stream",
     "text": [
      "| Property   |   Value |\n",
      "|------------|---------|\n",
      "| Size       |   60000 |\n"
     ]
    }
   ],
   "source": [
    "# Get the size of the dataset.\n",
    "dataset_size = len(dataset)\n",
    "\n",
    "# Construct data structures used by tabulate.\n",
    "headers = ['Property', 'Value']\n",
    "rows = [\n",
    "    ['Size', dataset_size],\n",
    "]\n",
    "\n",
    "# Print the table.\n",
    "print(tabulate(rows, headers=headers, tablefmt='github'))"
   ]
  },
  {
   "attachments": {},
   "cell_type": "markdown",
   "metadata": {},
   "source": [
    "Inspect samples from the dataset."
   ]
  },
  {
   "cell_type": "code",
   "execution_count": 6,
   "metadata": {},
   "outputs": [
    {
     "data": {
      "image/png": "[encoded data removed]",
      "text/plain": [
       "<Figure size 800x350 with 10 Axes>"
      ]
     },
     "metadata": {},
     "output_type": "display_data"
    }
   ],
   "source": [
    "# Sample 10 unique indices from the index range of the dataset.\n",
    "indices = random.sample(range(dataset_size), k=10)\n",
    "\n",
    "# Plot figure.\n",
    "rows, cols = 2, 5\n",
    "fig, axs = plt.subplots(rows, cols, figsize=(8, 3.5))\n",
    "for i in range(len(indices)):\n",
    "    row = i // cols\n",
    "    col = i % cols\n",
    "    axs[row][col].imshow(dataset[indices[i]][0].permute(1, 2, 0), cmap=plt.cm.gray)\n",
    "    axs[row][col].axis('off')\n",
    "plt.tight_layout()\n",
    "plt.show()"
   ]
  },
  {
   "attachments": {},
   "cell_type": "markdown",
   "metadata": {},
   "source": [
    "## 2. Diffusion"
   ]
  },
  {
   "cell_type": "code",
   "execution_count": 7,
   "metadata": {},
   "outputs": [],
   "source": [
    "class Diffusion:\n",
    "    \"\"\"Difusion class performs forward and backward diffusion.\"\"\"\n",
    "\n",
    "    def __init__(self, time_steps=1000):\n",
    "        \"\"\"\n",
    "        Args:\n",
    "            timesteps (int): maximum diffusion timesteps.\n",
    "        \"\"\"\n",
    "\n",
    "        # Instance attributes.\n",
    "        self.time_steps = time_steps\n",
    "\n",
    "        # Perform pre-calculations.\n",
    "        self._performPreCalculations()\n",
    "\n",
    "    def q_sample(self, x_0, t, noise=None):\n",
    "        \"\"\"Perform forward diffusion.\n",
    "        \n",
    "        Args:\n",
    "            x_0 (shape (batch_size, channels, height, width) & dtype torch.float32): original images.\n",
    "            t (shape (batch_size,) & dtype torch.int64): time representation.\n",
    "\n",
    "        Returns: noisy images of shape (batch_size, channels, height, width) and dtype torch.float32.\n",
    "        \"\"\"\n",
    "\n",
    "        # Noise added to the images.\n",
    "        # A tensor of shape (batch_size, channels, height, width) and dtype torch.float32.\n",
    "        if noise == None:\n",
    "            noise = torch.randn_like(x_0)\n",
    "\n",
    "        # A tensor of shape (batch_size, 1, 1, 1) and dtype torch.float32.\n",
    "        sqrt_alphas_cumprod = self._gatherFromTensor(self.sqrt_alphas_cumprod, t)\n",
    "        # A tensor of shape (batch_size, 1, 1, 1) and dtype torch.float32.\n",
    "        sqrt_one_minus_alphas_cumprod = self._gatherFromTensor(self.sqrt_one_minus_alphas_cumprod, t)\n",
    "\n",
    "        # A tensor of shape (batch_size, channels, height, width) and dtype torch.float32.\n",
    "        return sqrt_alphas_cumprod * x_0 + sqrt_one_minus_alphas_cumprod * noise\n",
    "    \n",
    "    def p_sample(self, x_t, t, model):\n",
    "        \"\"\"Sample x_{t-1} from x_t.\n",
    "        \n",
    "        Args:\n",
    "            x_t (shape (batch_size, channels, height, width) & dtype torch.float32): noisy images.\n",
    "            t (shape (batch_size,) & torch.int64): time representation.\n",
    "        \"\"\"\n",
    "\n",
    "        # Predict the noise.\n",
    "        model.eval()\n",
    "        # A tensor of shape (batch_size, channels, height, width) and dtype torch.float32.\n",
    "        with torch.no_grad():\n",
    "            noise_predicted = model(x_t, t)\n",
    "\n",
    "        # Reconstruct x_0.\n",
    "        # A tensor of shape (batch_size, channels, height, width) and dtype torch.float32.\n",
    "        x_0_reconstructed = self._x_0_from_noise(x_t, t, noise_predicted)\n",
    "        x_0_reconstructed = x_0_reconstructed.clamp(min=-1, max=1)\n",
    "\n",
    "        # Calculate posterior mean and variance.\n",
    "        mean, variance, log_variance = self._posterior_mean_variance(x_0_reconstructed, x_t, t)\n",
    "\n",
    "        # Sample a random noise.\n",
    "        noise = torch.randn_like(x_t)\n",
    "\n",
    "        # Generate a mask.\n",
    "        nonzero_mask = ((t != 0).float().view(-1, *([1] * (len(x_t.shape) - 1))))\n",
    "\n",
    "        # Sample x_{t-1}.\n",
    "        images_predicted = mean + nonzero_mask * (log_variance * 0.5).exp() * noise\n",
    "\n",
    "        return images_predicted\n",
    "    \n",
    "    def sample(self, batch_size, channels, height, width, model):\n",
    "        \"\"\"Generate some image samples.\n",
    "        \n",
    "        Args:\n",
    "            batch_size (int): number of image samples to generate.\n",
    "            channels (int): number of channels.\n",
    "            height (int): image height.\n",
    "            width (int): image width.\n",
    "            model (torch.nn.Module)\n",
    "        \"\"\"\n",
    "\n",
    "        # Sample noise.\n",
    "        noise = torch.randn((batch_size, channels, height, width), device=DEVICE)\n",
    "\n",
    "        return self._p_sample_loop(noise, model)\n",
    "\n",
    "    def _beta_schedule(self):\n",
    "        \"\"\"Generate betas for adding noise to images in a linear way.\n",
    "\n",
    "        The article [1] uses 1000 time steps, and uses 0.0001 as the starting beta and 0.02 as the ending beta.\n",
    "        If we use a different time steps, we need to scale it to make sure the noised added is enough.\n",
    "\n",
    "        Return: A tensor of shape (self.time_steps,) and dtype torch.float32.\n",
    "        \"\"\"\n",
    "\n",
    "        # Calculate the scale of the starting and ending betas.\n",
    "        scale = 1000 / self.time_steps\n",
    "\n",
    "        # Scale the starting and ending betas.\n",
    "        beta_start_scaled = 0.0001 * scale\n",
    "        beta_end_scaled = 0.02 * scale\n",
    "\n",
    "        # Return a tensor of shape (self.time_steps,) and dtype torch.float32.\n",
    "        return torch.linspace(start=beta_start_scaled, end=beta_end_scaled, steps=self.time_steps, device=DEVICE)\n",
    "\n",
    "    def _performPreCalculations(self):\n",
    "        \"\"\"Perform pre-calculations.\"\"\"\n",
    "\n",
    "        # A tensor of shape (self.time_steps,) and dtype torch.float32.\n",
    "        betas = self._beta_schedule()\n",
    "\n",
    "        # A tensor of shape (self.time_steps,) and dtype torch.float32.\n",
    "        alphas = 1 - betas\n",
    "\n",
    "        # A tensor of shape (self.time_steps,) and dtype torch.float32.\n",
    "        self.alphas_cumprod = alphas.cumprod(dim=0)\n",
    "\n",
    "        # A tensor of shape (self.timestamps_max,) and dtype torch.float32.\n",
    "        self.alphas_cumprod_prev = torch.nn.functional.pad(self.alphas_cumprod[:-1], pad=(1, 0), value=1)\n",
    "\n",
    "        # A tensor of shape (self.time_steps,) and dtype torch.float32.\n",
    "        self.sqrt_alphas_cumprod = self.alphas_cumprod.sqrt()\n",
    "\n",
    "        # A tensor of shape (self.time_steps,) and dtype torch.float32.\n",
    "        self.sqrt_one_minus_alphas_cumprod = (1 - self.alphas_cumprod).sqrt()\n",
    "\n",
    "        # A tensor of shape (self.timestamps_max,) and dtype torch.float32.\n",
    "        self.sqrt_recip_alphas_cumprod = torch.sqrt(1 / self.alphas_cumprod)\n",
    "\n",
    "        # A tensor of shape (self.timestamps_max,) and dtype torch.float32.\n",
    "        self.sqrt_recipm1_alphas_cumprod = torch.sqrt(1 / self.alphas_cumprod - 1)\n",
    "\n",
    "        # A tensor of shape (self.timestamps_max,) and dtype torch.float32.\n",
    "        self.posterior_mean_coef1 = betas * torch.sqrt(self.alphas_cumprod_prev) / (1 - self.alphas_cumprod)\n",
    "\n",
    "        # A tensor of shape (self.timestamps_max,) and dtype torch.float32.\n",
    "        self.posterior_mean_coef2 = (1 - self.alphas_cumprod_prev) * torch.sqrt(alphas) / (1 - self.alphas_cumprod)\n",
    "\n",
    "        # A tensor of shape (self.timestamps_max,) and dtype torch.float32.\n",
    "        self.posterior_variance = betas * (1 - self.alphas_cumprod_prev) / (1 - self.alphas_cumprod)\n",
    "\n",
    "        # A tensor of shape (self.timestamps_max,) and dtype torch.float32.\n",
    "        self.posterior_log_variance_clipped = torch.log(self.posterior_variance.clamp(min=1e-20))\n",
    "\n",
    "    def _gatherFromTensor(self, tensor, t):\n",
    "        \"\"\"Gather from tensor by the index t and make the shape as (batch_size, 1, 1, 1).\n",
    "\n",
    "        Args:\n",
    "            tensor (shape (self.time_steps,) & dtype torch.float32): tensor to gather from.\n",
    "            t (shape (batch_size,) & dtype torch.int64): time representation.\n",
    "\n",
    "        Return: A tensor of shape (batch_size, 1, 1, 1).\n",
    "        \"\"\"\n",
    "\n",
    "        # Calculate the batch size.\n",
    "        batch_size = t.size()[0]\n",
    "\n",
    "        # A tensor of shape (batch_size,) and torch.float32.\n",
    "        tensor = tensor.gather(dim=0, index=t)\n",
    "\n",
    "        # A tensor of shape (batch_size, 1, 1, 1) and torch.float32.\n",
    "        return tensor.reshape(batch_size, 1, 1, 1)\n",
    "    \n",
    "    def _p_sample_loop(self, noise, model):\n",
    "        \"\"\"Perform backward diffusion iteratively.\n",
    "        \n",
    "        Args:\n",
    "            noise (shape (batch_size, channels, height, width) & dtype torch.float32)\n",
    "            model (torch.nn.Module)\n",
    "\n",
    "        Return: images of shape (batch_size, channels, height, width) and dtype torch.float32.\n",
    "        \"\"\"\n",
    "\n",
    "        # Calculate the batch size.\n",
    "        batch_size = noise.size()[0]\n",
    "\n",
    "        images = noise\n",
    "        for i in reversed(range(self.time_steps)):\n",
    "            # A tensor of shape (batch_size,) and dtype torch.int64.\n",
    "            t = torch.full((batch_size,), i, dtype=torch.int64, device=DEVICE)\n",
    "            # A tensor of shape (batch_size, channels, height, width) and dtype torch.float32.\n",
    "            images = self.p_sample(images, t, model)\n",
    "\n",
    "        # A tensor of shape (batch_size, channels, height, width) and dtype torch.float32.\n",
    "        return images\n",
    "    \n",
    "    def _x_0_from_noise(self, x_t, t, noise):\n",
    "        \"\"\"Predict x_0 from x_t and noise.\n",
    "        \n",
    "        Args:\n",
    "            x_t (shape (batch_size, channels, height, width) & dtype torch.float32)\n",
    "            t (shape (batch_size,) & dtype torch.int64)\n",
    "            noise (shape (batch_size, channels, height, width) & dtype torch.float32)\n",
    "\n",
    "        Return x_0 of shape (batch_size, channels, height, width) and dtype torch.float32.\n",
    "        \"\"\"\n",
    "\n",
    "        # A tensor of shape (BATCH_SIZE, 1, 1, 1) and dtype torch.float32.\n",
    "        sqrt_recip_alphas_cumprod_t = self._gatherFromTensor(self.sqrt_recip_alphas_cumprod, t)\n",
    "        # A tensor of shape (BATCH_SIZE, 1, 1, 1) and dtype torch.float32.\n",
    "        sqrt_recipm1_alphas_cumprod_t = self._gatherFromTensor(self.sqrt_recipm1_alphas_cumprod, t)\n",
    "\n",
    "        # A tensor of shape (BATCH_SIZE, 1, 1, 1) and dtype torch.float32.\n",
    "        return sqrt_recip_alphas_cumprod_t * x_t - sqrt_recipm1_alphas_cumprod_t * noise\n",
    "    \n",
    "    def _posterior_mean_variance(self, x_0, x_t, t):\n",
    "        \"\"\"Calculate posterior mean and variance.\"\"\"\n",
    "\n",
    "        posterior_mean_coef1 = self._gatherFromTensor(self.posterior_mean_coef1, t)\n",
    "        posterior_mean_coef2 = self._gatherFromTensor(self.posterior_mean_coef2, t)\n",
    "\n",
    "        posterior_mean = posterior_mean_coef1 * x_0 + posterior_mean_coef2 * x_t\n",
    "        posterior_variance = self._gatherFromTensor(self.posterior_variance, t)\n",
    "        posterior_log_variance_clipped = self._gatherFromTensor(self.posterior_log_variance_clipped, t)\n",
    "\n",
    "        return posterior_mean, posterior_variance, posterior_log_variance_clipped\n",
    "\n",
    "diffusion = Diffusion(TIME_STEPS)"
   ]
  },
  {
   "attachments": {},
   "cell_type": "markdown",
   "metadata": {},
   "source": [
    "### 2.1. Forward Diffusion"
   ]
  },
  {
   "cell_type": "code",
   "execution_count": 13,
   "metadata": {},
   "outputs": [
    {
     "data": {
      "image/png": "[encoded data removed]",
      "text/plain": [
       "<Figure size 1200x350 with 16 Axes>"
      ]
     },
     "metadata": {},
     "output_type": "display_data"
    }
   ],
   "source": [
    "num_samples = 8\n",
    "\n",
    "# Sample images from the dataset.\n",
    "# A tensor of shape (num_samples, CHANNELS, HEIGHT, WIDTH) and dtype torch.float32.\n",
    "images = next(iter(dataloader))[0][:num_samples].to(DEVICE)\n",
    "\n",
    "# Sample time steps that are in [0, TIME_STEPS).\n",
    "# A tensor of shape (num_samples,) and dtype torch.int64.\n",
    "t = torch.randint(0, TIME_STEPS, (8,), device=DEVICE)\n",
    "\n",
    "# Add noise to the images.\n",
    "# A tensor of shape (num_samples, CHANNELS, HEIGHT, WIDTH) and dtype torch.float32.\n",
    "noisy_images = diffusion.q_sample(images, t)\n",
    "\n",
    "# Show the noisy images.\n",
    "rows, cols = 2, num_samples\n",
    "fig, axs = plt.subplots(rows, cols, figsize=(12, 3.5))\n",
    "for col in range(cols):\n",
    "    axs[0][col].imshow(images[col].permute(1, 2, 0).cpu(), cmap=plt.cm.gray)\n",
    "    axs[0][col].axis('off')\n",
    "for col in range(cols):\n",
    "    axs[1][col].imshow(noisy_images[col].permute(1, 2, 0).cpu(), cmap=plt.cm.gray)\n",
    "    axs[1][col].axis('off')\n",
    "    axs[1][col].set_title(t[col].item())\n",
    "plt.tight_layout()\n",
    "plt.show()"
   ]
  },
  {
   "attachments": {},
   "cell_type": "markdown",
   "metadata": {},
   "source": [
    "## 3. Model"
   ]
  },
  {
   "attachments": {},
   "cell_type": "markdown",
   "metadata": {},
   "source": [
    "### 3.1. Time embedding."
   ]
  },
  {
   "cell_type": "code",
   "execution_count": 14,
   "metadata": {},
   "outputs": [],
   "source": [
    "def time_embed(t, dims, period_max=10000.):\n",
    "    \"\"\"Calculate embedding for time steps.\n",
    "\n",
    "    Args:\n",
    "        t (shape (batch_size,) & dtype torch.int64): time representation.\n",
    "        dims (int): dimensions of the embedding.\n",
    "        period_max(float): max period of sinusoidal and cosinoidal functions.\n",
    "\n",
    "    Return: time embedding of shape (batch_size, dim) and dtype torch.float32.\n",
    "    \"\"\"\n",
    "\n",
    "    # batch_size is a Python int.\n",
    "    batch_size = t.size()[0]\n",
    "\n",
    "    # Calculate half of the embedding dimension.\n",
    "    # half is a Python int.\n",
    "    half = dims // 2\n",
    "\n",
    "    # Calculate the parameter w that controls frequencies.\n",
    "    # A tensor of shape (half,) and dtype torch.float32.\n",
    "    w = torch.exp(\n",
    "        -math.log(period_max) *\n",
    "        torch.arange(start=0, end=half, dtype=torch.float32, device=DEVICE) / half\n",
    "    )\n",
    "    \n",
    "    # args is the arguments of sinusoidal and cosinoidal functions.\n",
    "    # args is a tensor of shape (batch_size, half) and dtype torch.float32.\n",
    "    # t[:, None] is a tensor of shape (batch_size, 1) and dtype torch.int64.\n",
    "    # w[None, :] is a tensor of shape (1, half) and dtype torch.float32.\n",
    "    args = t[:, None].float() * w[None, :]\n",
    "    \n",
    "    # A tensor of shape (batch_size, half*2) and dtype torch.float32.\n",
    "    embedding = torch.cat([torch.cos(args), torch.sin(args)], dim=-1)\n",
    "\n",
    "    # A tensor of shape (batch_size, dim) and dtype torch.float32.\n",
    "    if dims % 2 != 0:\n",
    "        embedding = torch.cat([embedding, torch.zeros(batch_size, 1)], dim=-1)\n",
    "\n",
    "    # A tensor of shape (batch_size, dim) and dtype torch.float32.\n",
    "    return embedding"
   ]
  },
  {
   "attachments": {},
   "cell_type": "markdown",
   "metadata": {},
   "source": [
    "### 3.2. Blocks"
   ]
  },
  {
   "attachments": {},
   "cell_type": "markdown",
   "metadata": {},
   "source": [
    "Define a module that accepts time embedding."
   ]
  },
  {
   "cell_type": "code",
   "execution_count": 15,
   "metadata": {},
   "outputs": [],
   "source": [
    "class EmbeddingBlock(torch.nn.Module, abc.ABC):\n",
    "    \"\"\"Any module whose forward method takes time embedding as a second argument.\"\"\"\n",
    "\n",
    "    @abc.abstractmethod\n",
    "    def forward(self, x, embedding):\n",
    "        \"\"\"Take x and embbeding as the inputs.\"\"\""
   ]
  },
  {
   "attachments": {},
   "cell_type": "markdown",
   "metadata": {},
   "source": [
    "Define a sequential module that contains EmbeddingBlock."
   ]
  },
  {
   "cell_type": "code",
   "execution_count": 16,
   "metadata": {},
   "outputs": [],
   "source": [
    "class EmbeddingSequential(torch.nn.Sequential, EmbeddingBlock):\n",
    "    \"\"\"A sequential module that contains EmbeddingBlock.\"\"\"\n",
    "\n",
    "    def forward(self, x, embedding):\n",
    "        \"\"\"Take x and embbeding as the inputs.\"\"\"\n",
    "\n",
    "        for layer in self:\n",
    "            if isinstance(layer, EmbeddingBlock):\n",
    "                x = layer(x, embedding)\n",
    "            else:\n",
    "                x = layer(x)\n",
    "        \n",
    "        return x"
   ]
  },
  {
   "attachments": {},
   "cell_type": "markdown",
   "metadata": {},
   "source": [
    "Define the residual block."
   ]
  },
  {
   "cell_type": "code",
   "execution_count": 17,
   "metadata": {},
   "outputs": [],
   "source": [
    "class ResidualBlock(EmbeddingBlock):\n",
    "    \"\"\"Residual block.\"\"\"\n",
    "\n",
    "    def __init__(self, in_channels, out_channels, time_embedding_channels, groups, dropout):\n",
    "        \"\"\"\n",
    "        Args:\n",
    "            in_channels (int): channels of the input.\n",
    "            out_channels (int): channels of the output.\n",
    "            time_embedding_channels (int): channels of the time embedding.\n",
    "            groups (int): number of groups for group normalization. in_channels and out_channels must be divisible by groups.\n",
    "            dropout (float): dropout rate.\n",
    "        \"\"\"\n",
    "\n",
    "        super().__init__()\n",
    "\n",
    "        # Input is a tensor of shape (batch_size, in_channels, height, width) and dtype torch.float32.\n",
    "        # Output is a tensor of shape (batch_size, out_channels, height, width) and dtype torch.float32.\n",
    "        self.conv1 = torch.nn.Sequential(\n",
    "            torch.nn.GroupNorm(groups, in_channels),\n",
    "            torch.nn.SiLU(),\n",
    "            torch.nn.Conv2d(in_channels, out_channels, kernel_size=3, padding='same'),\n",
    "        )\n",
    "\n",
    "        # Input is a tensor of shape (batch_size, time_embedding_channels) and dtype torch.float32.\n",
    "        # Output is a tensor of shape (batch_size, out_channels) and dtype torch.float32.\n",
    "        self.embedding = torch.nn.Sequential(\n",
    "            torch.nn.SiLU(),\n",
    "            torch.nn.Linear(time_embedding_channels, out_channels),\n",
    "        )\n",
    "\n",
    "        # Input is a tensor of shape (batch_size, out_channels, height, width) and dtype torch.float32.\n",
    "        # Output is a tensor of shape (batch_size, out_channels) and dtype torch.float32.\n",
    "        self.conv2 = torch.nn.Sequential(\n",
    "            torch.nn.GroupNorm(groups, out_channels),\n",
    "            torch.nn.SiLU(),\n",
    "            torch.nn.Dropout(p=dropout),\n",
    "            torch.nn.Conv2d(out_channels, out_channels, kernel_size=3, padding='same'),\n",
    "        )\n",
    "\n",
    "        # Shortcut of the residual block.\n",
    "        if in_channels != out_channels:\n",
    "            self.shortcut = torch.nn.Conv2d(in_channels, out_channels, kernel_size=1)\n",
    "        else:\n",
    "            self.shortcut = torch.nn.Identity()\n",
    "\n",
    "    def forward(self, x, embedding):\n",
    "        \"\"\"\n",
    "        Args:\n",
    "            x (shape (batch_size, in_channels, height, width) & dtype torch.float32)\n",
    "            embedding (shape (batch_size, time_embedding_channels) & dtype torch.float32)\n",
    "\n",
    "        Return: a tensor of shape (batch_size, out_channels, height, width) and dtype torch.float32.\n",
    "        \"\"\"\n",
    "\n",
    "        # A tensor of shape (batch_size, out_channels, height, width) and dtype ttorch.float32.\n",
    "        out = self.conv1(x)\n",
    "        # A tensor of shape (batch_size, out_channels, height, width) and dtype ttorch.float32.\n",
    "        out += self.embedding(embedding)[:, :, None, None]\n",
    "        # A tensor of shape (batch_size, out_channels, height, width) and dtype ttorch.float32.\n",
    "        out = self.conv2(out)\n",
    "\n",
    "        # A tensor of shape (batch_size, out_channels, height, width) and dtype ttorch.float32.\n",
    "        return out + self.shortcut(x)"
   ]
  },
  {
   "attachments": {},
   "cell_type": "markdown",
   "metadata": {},
   "source": [
    "Define a down sampler class."
   ]
  },
  {
   "cell_type": "code",
   "execution_count": 18,
   "metadata": {},
   "outputs": [],
   "source": [
    "class DownSampler(torch.nn.Module):\n",
    "    \"\"\"Down sampler that halves the height and width.\"\"\"\n",
    "\n",
    "    def __init__(self, channels):\n",
    "        \"\"\"\n",
    "        Args:\n",
    "            channels (int): number of channels.\n",
    "        \"\"\"\n",
    "\n",
    "        super().__init__()\n",
    "\n",
    "        # Input is a tensor of shape (batch_size, channels, height, width) and dtype torch.float32.\n",
    "        # Output is a tensor of shape (batch_size, channels, ceil(height / 2), ceil(width / 2) and dtype torch.float32.\n",
    "        self.conv = torch.nn.Conv2d(channels, channels, kernel_size=3, stride=2, padding=1)\n",
    "\n",
    "    def forward(self, x):\n",
    "        \"\"\"\n",
    "        Args:\n",
    "            x (shape (batch_size, channels, height, width) & dtype torch.float32)\n",
    "\n",
    "        Return: a tensor of shape (batch_size, channels, ceil(height / 2), ceil(width / 2) and dtype torch.float32.\n",
    "        \"\"\"\n",
    "\n",
    "        # A tensor of shape (batch_size, channels, ceil(height / 2), ceil(width / 2) and dtype torch.float32.\n",
    "        return self.conv(x)"
   ]
  },
  {
   "attachments": {},
   "cell_type": "markdown",
   "metadata": {},
   "source": [
    "Define an up sampler class."
   ]
  },
  {
   "cell_type": "code",
   "execution_count": 19,
   "metadata": {},
   "outputs": [],
   "source": [
    "class UpSampler(torch.nn.Module):\n",
    "    \"\"\"Up sampler that doubles the height and width.\"\"\"\n",
    "\n",
    "    def __init__(self, channels):\n",
    "        \"\"\"\n",
    "        Args:\n",
    "            channels (int): number of channels.\n",
    "        \"\"\"\n",
    "\n",
    "        super().__init__()\n",
    "\n",
    "        # Input is a tensor of shape (batch_size, channels, height, width) and dtype torch.float32.\n",
    "        # Output is a tensor of shape (batch_size, channels, height, width and dtype torch.float32.\n",
    "        self.conv = torch.nn.Conv2d(channels, channels, kernel_size=3, padding='same')\n",
    "\n",
    "    def forward(self, x):\n",
    "        \"\"\"\n",
    "        Args:\n",
    "            x (shape (batch_size, channels, height, width) & dtype torch.float32)\n",
    "\n",
    "        Return: a tensor of shape (batch_size, channels, height * 2, width * 2) and dtype torch.float32.\n",
    "        \"\"\"\n",
    "\n",
    "        # A tensor of shape (batch_size, channels, height * 2, width * 2) and dtype torch.float32.\n",
    "        x = torch.nn.functional.interpolate(x, scale_factor=2, mode='nearest')\n",
    "        # A tensor of shape (batch_size, channels, height * 2, width * 2) and dtype torch.float32.\n",
    "        x = self.conv(x)\n",
    "\n",
    "        # A tensor of shape (batch_size, channels, height * 2, width * 2) and dtype torch.float32.\n",
    "        return x"
   ]
  },
  {
   "attachments": {},
   "cell_type": "markdown",
   "metadata": {},
   "source": [
    "### 3.3. UNet"
   ]
  },
  {
   "cell_type": "code",
   "execution_count": 20,
   "metadata": {},
   "outputs": [],
   "source": [
    "class UNet(torch.nn.Module):\n",
    "    \n",
    "    def __init__(self, in_channels, out_channels, model_channels, groups, channel_factors=(1, 2, 2), res_blocks=2, dropout=0.1):\n",
    "        \"\"\"\n",
    "        Args:\n",
    "            in_channels (int): number of channels of the input.\n",
    "            out_channels (int): number of channels of the output.\n",
    "            model_channels (int): base number of channels of the model.\n",
    "            groups (int): number of groups for group normalization. model_channels must be divisible by groups.\n",
    "            channel_factors (tuple of int): defines number of levels and channel factors.\n",
    "            res_blocks (int): number of residual blocks of each level.\n",
    "            dropout (float): dropout rate.\n",
    "        \"\"\"\n",
    "\n",
    "        super().__init__()\n",
    "\n",
    "        # Instance attributes.\n",
    "        self.model_channels = model_channels\n",
    "\n",
    "        # Time embedding.\n",
    "        time_embedding_channels = model_channels * 4\n",
    "        self.embed = torch.nn.Sequential(\n",
    "            torch.nn.Linear(model_channels, time_embedding_channels),\n",
    "            torch.nn.SiLU(),\n",
    "            torch.nn.Linear(time_embedding_channels, time_embedding_channels)\n",
    "        )\n",
    "\n",
    "        # Necessary variables for UNet.\n",
    "        channels = model_channels\n",
    "        down_block_channels = [channels]\n",
    "\n",
    "        # Down sampling state.\n",
    "        self.down_blocks = torch.nn.ModuleList([\n",
    "            EmbeddingSequential(torch.nn.Conv2d(in_channels, model_channels, kernel_size=3, padding='same'))\n",
    "        ])\n",
    "        for level, channel_factor in enumerate(channel_factors):\n",
    "            for _ in range(res_blocks):\n",
    "                layers = [\n",
    "                    ResidualBlock(channels, model_channels * channel_factor, time_embedding_channels, groups, dropout),\n",
    "                ]\n",
    "                channels = model_channels * channel_factor\n",
    "                self.down_blocks.append(EmbeddingSequential(*layers))\n",
    "                down_block_channels.append(channels)\n",
    "            if level != len(channel_factors)-1:\n",
    "                self.down_blocks.append(EmbeddingSequential(DownSampler(channels)))\n",
    "                down_block_channels.append(channels)\n",
    "\n",
    "        # Middle stage.\n",
    "        self.middle_blocks = EmbeddingSequential(\n",
    "            ResidualBlock(channels, channels, time_embedding_channels, groups, dropout),\n",
    "            ResidualBlock(channels, channels, time_embedding_channels, groups, dropout),\n",
    "        )\n",
    "\n",
    "        # Up sampling stage.\n",
    "        self.up_blocks = torch.nn.ModuleList([])\n",
    "        for level, channel_factor in list(enumerate(channel_factors))[::-1]:\n",
    "            for i in range(res_blocks+1):\n",
    "                layers = [\n",
    "                    ResidualBlock(channels + down_block_channels.pop(), model_channels * channel_factor, time_embedding_channels, groups, dropout),\n",
    "                ]\n",
    "                channels = model_channels * channel_factor\n",
    "                if level > 0 and i == res_blocks:\n",
    "                    layers.append(UpSampler(channels))\n",
    "                self.up_blocks.append(EmbeddingSequential(*layers))\n",
    "\n",
    "        # Output block.\n",
    "        self.output_block = torch.nn.Sequential(\n",
    "            torch.nn.GroupNorm(groups, channels),\n",
    "            torch.nn.SiLU(),\n",
    "            torch.nn.Conv2d(model_channels, out_channels, kernel_size=3, padding='same')\n",
    "        )\n",
    "\n",
    "    def forward(self, x_t, t):\n",
    "        \"\"\"\n",
    "        Args:\n",
    "            x_t (shape (batch_size, channels, height, width) & dtype torch.float32): noisy images.\n",
    "            t (shape (batch_size,) & dtype torch.int64): time representation.\n",
    "        \"\"\"\n",
    "\n",
    "        # Output of each layer.\n",
    "        out = x_t\n",
    "\n",
    "        # Skip connections.\n",
    "        outs = []\n",
    "\n",
    "        # embedding is a tensor of shape (batch_size, self.model_channels * 4) and dtype torch.float32.\n",
    "        embedding = self.embed(time_embed(t, self.model_channels))\n",
    "\n",
    "        # Down sampling stage.\n",
    "        for module in self.down_blocks:\n",
    "            out = module(out, embedding)\n",
    "            outs.append(out)\n",
    "\n",
    "        # Middle stage.\n",
    "        out = self.middle_blocks(out, embedding)\n",
    "\n",
    "        # Up sampling stage.\n",
    "        for module in self.up_blocks:\n",
    "            out = module(torch.cat([out, outs.pop()], dim=1), embedding)\n",
    "\n",
    "        # Output block.\n",
    "        out = self.output_block(out)\n",
    "\n",
    "        return out\n",
    "    \n",
    "model = UNet(CHANNELS, CHANNELS, MODEL_CHANNELS, GROUP_NORM_GROUPS).to(DEVICE)"
   ]
  },
  {
   "attachments": {},
   "cell_type": "markdown",
   "metadata": {},
   "source": [
    "Inspect statistics of the model."
   ]
  },
  {
   "cell_type": "code",
   "execution_count": 21,
   "metadata": {},
   "outputs": [
    {
     "name": "stdout",
     "output_type": "stream",
     "text": [
      "| Property    |    Value |\n",
      "|-------------|----------|\n",
      "| # of Params | 13648513 |\n"
     ]
    }
   ],
   "source": [
    "# Calculate the total number of parameters.\n",
    "num_parameters_total = 0\n",
    "for params in model.parameters():\n",
    "    num_parameters = 1\n",
    "    size = params.size()\n",
    "    for dim_size in size:\n",
    "        num_parameters *= dim_size\n",
    "    num_parameters_total += num_parameters\n",
    "\n",
    "# Construct data structures used by tabulate.\n",
    "headers = ['Property', 'Value']\n",
    "rows = [\n",
    "    ['# of Params', num_parameters_total],\n",
    "]\n",
    "\n",
    "# Print the table.\n",
    "print(tabulate(rows, headers=headers, tablefmt='github'))"
   ]
  },
  {
   "attachments": {},
   "cell_type": "markdown",
   "metadata": {},
   "source": [
    "## 4. Training"
   ]
  },
  {
   "attachments": {},
   "cell_type": "markdown",
   "metadata": {},
   "source": [
    "Define a function to load from saved data."
   ]
  },
  {
   "cell_type": "code",
   "execution_count": 22,
   "metadata": {},
   "outputs": [],
   "source": [
    "def load(model, file_path):\n",
    "    \"\"\"Load the saved data.\n",
    "    \n",
    "    Return losses: losses of the training process.\n",
    "    \"\"\"\n",
    "    \n",
    "    # Retrieve saved data.\n",
    "    data = torch.load(file_path)\n",
    "\n",
    "    # Resume model from saved data.\n",
    "    state_dict = data['state_dict']\n",
    "    model.load_state_dict(state_dict)\n",
    "\n",
    "    # A list of floats.\n",
    "    return data['losses']"
   ]
  },
  {
   "attachments": {},
   "cell_type": "markdown",
   "metadata": {},
   "source": [
    "Define a function to save data."
   ]
  },
  {
   "cell_type": "code",
   "execution_count": 23,
   "metadata": {},
   "outputs": [],
   "source": [
    "def save(model, losses, file_path):\n",
    "    \"\"\"Save the data.\n",
    "    \n",
    "    Args:\n",
    "        model (torch.nn.Module)\n",
    "        losses (list of float): losses of the training process.\n",
    "        file_path (string)\n",
    "    \"\"\"\n",
    "    \n",
    "    # Create the folder if it does not exist.\n",
    "    folder_path = os.path.dirname(file_path)\n",
    "    if not os.path.exists(folder_path):\n",
    "        os.makedirs(folder_path)\n",
    "\n",
    "    # Construct the struct of data to save.\n",
    "    data = {\n",
    "        'state_dict': model.state_dict(),\n",
    "        'losses': losses,\n",
    "    }\n",
    "\n",
    "    # Save data to the file.\n",
    "    torch.save(data, file_path)"
   ]
  },
  {
   "attachments": {},
   "cell_type": "markdown",
   "metadata": {},
   "source": [
    "Define a function to calculate statistics on a dataset."
   ]
  },
  {
   "cell_type": "code",
   "execution_count": 25,
   "metadata": {},
   "outputs": [],
   "source": [
    "def calculateStatistics(model, dataloader, loss_fn, diffussion):\n",
    "    \"\"\"Calculate statistics of a model on a dataset.\n",
    "\n",
    "    The statistics include:\n",
    "    1. mean loss.\n",
    "\n",
    "    Args:\n",
    "        model (torch.nn.Module)\n",
    "        dataloader (torch.utils.data.DataLoader)\n",
    "        loss_fn: loss function.\n",
    "        diffusion (Diffusion)\n",
    "\n",
    "    Return: the mean loss (float).\n",
    "    \"\"\"\n",
    "\n",
    "    # Put model into evaluation mode.\n",
    "    model.eval()\n",
    "    \n",
    "    with torch.no_grad():\n",
    "        loss = 0\n",
    "\n",
    "        for images, _ in dataloader:\n",
    "            images = images.to(DEVICE)\n",
    "\n",
    "            # Calculate batch size.\n",
    "            # Note that the last batch may not be equal to the pre-defined batch size.\n",
    "            batch_size = images.size()[0]\n",
    "\n",
    "            # Generate noise and predicted noise\n",
    "            noise = torch.randn_like(images, device=DEVICE)\n",
    "            t = torch.randint(0, TIME_STEPS, (batch_size,), device=DEVICE)\n",
    "            noisy_images = diffusion.q_sample(images, t, noise)\n",
    "            noise_predicted = model(noisy_images, t)\n",
    "\n",
    "            # Calculate the loss.\n",
    "            loss += loss_fn(noise, noise_predicted)\n",
    "\n",
    "        # Calculate the mean loss.\n",
    "        batches = len(dataloader)\n",
    "        loss /= batches\n",
    "\n",
    "    # Convert a tensor of torch.float32 to a Python float.\n",
    "    return loss.item()"
   ]
  },
  {
   "attachments": {},
   "cell_type": "markdown",
   "metadata": {},
   "source": [
    "Define a function to train one epoch."
   ]
  },
  {
   "cell_type": "code",
   "execution_count": 26,
   "metadata": {},
   "outputs": [],
   "source": [
    "def trainOneEpoch(model, dataloader, loss_fn, optimizer, diffusion):\n",
    "    \"\"\"Train the model for one epoch.\n",
    "    \n",
    "    Return: mean loss of the epoch (float).\n",
    "    \"\"\"\n",
    "\n",
    "    # Put model into training mode.\n",
    "    model.train(mode=True)\n",
    "\n",
    "    # Mean loss of the epoch.\n",
    "    loss_epoch = 0\n",
    "\n",
    "    for batch, [images, _] in enumerate(dataloader):\n",
    "        # Move data to the proper device.\n",
    "        images = images.to(DEVICE)\n",
    "\n",
    "        # Calculate batch size.\n",
    "        # Note that the last batch may not be equal to the pre-defined batch size.\n",
    "        batch_size = images.size()[0]\n",
    "\n",
    "        # Generate noise and predicted noise\n",
    "        noise = torch.randn_like(images, device=DEVICE)\n",
    "        t = torch.randint(0, diffusion.time_steps, (batch_size,), device=DEVICE)\n",
    "        noisy_images = diffusion.q_sample(images, t, noise)\n",
    "        noise_predicted = model(noisy_images, t)\n",
    "\n",
    "        # Reset gradients.\n",
    "        optimizer.zero_grad()\n",
    "\n",
    "        # Calculate loss and gradients.\n",
    "        loss = loss_fn(noise, noise_predicted)\n",
    "        loss_epoch += loss\n",
    "\n",
    "        # Do back propagation.\n",
    "        loss.backward()\n",
    "\n",
    "        # Update gradients.\n",
    "        optimizer.step()\n",
    "\n",
    "    # Calculate mean loss of the epoch.\n",
    "    batches = len(dataloader)\n",
    "    # A tensor of torch.float32.\n",
    "    loss_epoch /= batches\n",
    "\n",
    "    # Convert a tensor of torch.float32 to a Python float.\n",
    "    return loss_epoch.item()"
   ]
  },
  {
   "attachments": {},
   "cell_type": "markdown",
   "metadata": {},
   "source": [
    "Define a function to train multiple epochs"
   ]
  },
  {
   "cell_type": "code",
   "execution_count": 27,
   "metadata": {},
   "outputs": [],
   "source": [
    "def train(\n",
    "        model,\n",
    "        dataloader,\n",
    "        learning_rate,\n",
    "        epochs,\n",
    "        diffusion,\n",
    "        use_pretrained=True,\n",
    "    ):\n",
    "    \"\"\"Train the model for multiple epochs.\n",
    "    \n",
    "    Return: mean losses of the epochs (list of float).\n",
    "    \"\"\"\n",
    "\n",
    "    # Get file path of pre-trained data.\n",
    "    saved_file_path = f'saved/{SAVED_FILENAME}.pt'\n",
    "\n",
    "    # Losses of the training process.\n",
    "    # A list of floats.\n",
    "    losses = []\n",
    "\n",
    "    if use_pretrained:\n",
    "        if os.path.exists(saved_file_path):\n",
    "            losses = load(model, saved_file_path)\n",
    "            return losses\n",
    "\n",
    "    loss_fn = torch.nn.MSELoss()\n",
    "    optimizer = torch.optim.Adam(model.parameters(), learning_rate)\n",
    "\n",
    "    # Calculate the statistics before the first epoch.\n",
    "    loss = calculateStatistics(model, dataloader, loss_fn, diffusion) # A float.\n",
    "    losses.append(loss)\n",
    "\n",
    "    for epoch in range(epochs):\n",
    "        loss_epoch = trainOneEpoch(model, dataloader, loss_fn, optimizer, diffusion)\n",
    "        losses.append(loss_epoch)\n",
    "        print(f'Epoch #{epoch}: loss ({loss_epoch})')\n",
    "\n",
    "    save(model, losses, saved_file_path)\n",
    "\n",
    "    return losses"
   ]
  },
  {
   "attachments": {},
   "cell_type": "markdown",
   "metadata": {},
   "source": [
    "Run training."
   ]
  },
  {
   "cell_type": "code",
   "execution_count": 28,
   "metadata": {},
   "outputs": [
    {
     "name": "stdout",
     "output_type": "stream",
     "text": [
      "Epoch #0: loss (0.03949930518865585)\n",
      "Epoch #1: loss (0.027269937098026276)\n",
      "Epoch #2: loss (0.024915948510169983)\n",
      "Epoch #3: loss (0.024587426334619522)\n",
      "Epoch #4: loss (0.02377457544207573)\n",
      "Epoch #5: loss (0.023434894159436226)\n",
      "Epoch #6: loss (0.022725962102413177)\n",
      "Epoch #7: loss (0.022625282406806946)\n",
      "Epoch #8: loss (0.022388050332665443)\n",
      "Epoch #9: loss (0.022302009165287018)\n"
     ]
    }
   ],
   "source": [
    "# A list of floats.\n",
    "losses = train(model, dataloader, LEARNING_RATE, EPOCHS, diffusion)"
   ]
  },
  {
   "attachments": {},
   "cell_type": "markdown",
   "metadata": {},
   "source": [
    "Plot the training process."
   ]
  },
  {
   "cell_type": "code",
   "execution_count": 30,
   "metadata": {},
   "outputs": [
    {
     "data": {
      "image/png": "[encoded data removed]",
      "text/plain": [
       "<Figure size 640x480 with 1 Axes>"
      ]
     },
     "metadata": {},
     "output_type": "display_data"
    }
   ],
   "source": [
    "plt.plot(losses)\n",
    "plt.title(f'Losses - {losses[-1]:.3f}')\n",
    "plt.show()"
   ]
  },
  {
   "attachments": {},
   "cell_type": "markdown",
   "metadata": {},
   "source": [
    "## 5. Generation"
   ]
  },
  {
   "cell_type": "code",
   "execution_count": 29,
   "metadata": {},
   "outputs": [
    {
     "data": {
      "image/png": "[encoded data removed]",
      "text/plain": [
       "<Figure size 1200x1200 with 64 Axes>"
      ]
     },
     "metadata": {},
     "output_type": "display_data"
    }
   ],
   "source": [
    "image_predicted = diffusion.sample(BATCH_SIZE, CHANNELS, HEIGHT, WIDTH, model)\n",
    "\n",
    "cols = 8\n",
    "rows = BATCH_SIZE // cols if BATCH_SIZE % cols == 0 else BATCH_SIZE // cols + 1\n",
    "fig, axs = plt.subplots(rows, cols, figsize=(12, 12))\n",
    "for i in range(BATCH_SIZE):\n",
    "    row = i // cols\n",
    "    col = i % cols\n",
    "    axs[row][col].imshow(image_predicted[i].detach().cpu().permute(1, 2, 0), cmap=plt.cm.gray)\n",
    "    axs[row][col].axis('off')\n",
    "plt.show()"
   ]
  }
 ],
 "metadata": {
  "kernelspec": {
   "display_name": "base",
   "language": "python",
   "name": "python3"
  },
  "language_info": {
   "codemirror_mode": {
    "name": "ipython",
    "version": 3
   },
   "file_extension": ".py",
   "mimetype": "text/x-python",
   "name": "python",
   "nbconvert_exporter": "python",
   "pygments_lexer": "ipython3",
   "version": "3.9.13"
  },
  "orig_nbformat": 4
 },
 "nbformat": 4,
 "nbformat_minor": 2
}
