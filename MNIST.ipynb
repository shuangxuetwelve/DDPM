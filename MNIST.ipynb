{
 "cells": [
  {
   "attachments": {},
   "cell_type": "markdown",
   "metadata": {},
   "source": [
    "# Denoising Diffusion Probabilistic Models (DDPM) on MNIST"
   ]
  },
  {
   "cell_type": "code",
   "execution_count": 1,
   "metadata": {},
   "outputs": [],
   "source": [
    "# Python imports\n",
    "import random\n",
    "import math\n",
    "import abc\n",
    "import os\n",
    "\n",
    "# PyTorch imports\n",
    "import torch\n",
    "import torchvision\n",
    "\n",
    "# Third-party imports\n",
    "import matplotlib.pyplot as plt\n",
    "from tabulate import tabulate\n",
    "\n",
    "# Own imports\n",
    "import utils"
   ]
  },
  {
   "attachments": {},
   "cell_type": "markdown",
   "metadata": {},
   "source": [
    "## 0. Constants"
   ]
  },
  {
   "cell_type": "code",
   "execution_count": 37,
   "metadata": {},
   "outputs": [],
   "source": [
    "# Hyper-parameters.\n",
    "LEARNING_RATE_START = 5e-4\n",
    "EPOCHS = 10\n",
    "BATCH_SIZE = 64\n",
    "DROPOUT = 0.1\n",
    "\n",
    "# Diffusion model parameters.\n",
    "TIME_STEPS = 500\n",
    "\n",
    "# UNet model parameters.\n",
    "TIME_EMBEDDING_CHANNELS = 384\n",
    "GROUP_NORM_GROUPS = 32\n",
    "\n",
    "# Dataset parameters.\n",
    "WIDTH = 28\n",
    "HEIGHT = 28\n",
    "CHANNELS = 1\n",
    "\n",
    "# Others\n",
    "SAVED_FILENAME = 'MNIST'"
   ]
  },
  {
   "attachments": {},
   "cell_type": "markdown",
   "metadata": {},
   "source": [
    "### 0.1. Device"
   ]
  },
  {
   "cell_type": "code",
   "execution_count": 3,
   "metadata": {},
   "outputs": [
    {
     "name": "stdout",
     "output_type": "stream",
     "text": [
      "Use device [cuda].\n"
     ]
    }
   ],
   "source": [
    "DEVICE = 'cuda' if torch.cuda.is_available() else 'mps' if torch.backends.mps.is_available() else 'cpu'\n",
    "\n",
    "# Print the device to run the model.\n",
    "print(f\"Use device [{DEVICE}].\")"
   ]
  },
  {
   "attachments": {},
   "cell_type": "markdown",
   "metadata": {},
   "source": [
    "## 1. Dataset"
   ]
  },
  {
   "cell_type": "code",
   "execution_count": 4,
   "metadata": {},
   "outputs": [],
   "source": [
    "# 1. Each item in dataset is a tuple of (torch.Tensor, int). The first tensor is of shape (CHANNELS, HEIGHT, WIDTH) and dtype torch.float32, which is the image.\n",
    "# 2. I use a custom utils.MNIST to load and cache the dataset, so that reading from hard drive during training is avoided.\n",
    "dataset = utils.MNIST(\n",
    "    './data',\n",
    "    train=True,\n",
    "    transform=torchvision.transforms.Compose([\n",
    "        torchvision.transforms.ToTensor(),\n",
    "        # torchvision.transforms.Resize((HEIGHT, WIDTH), antialias=True),\n",
    "        torchvision.transforms.Normalize(mean=[0.5], std=[0.5]),\n",
    "    ]),\n",
    ")\n",
    "\n",
    "# samples = next(iter(dataloader))\n",
    "# samples is a Python list of len 2.\n",
    "# samples[0] is a tensor of shape (BATCH_SIZE, CHANNELS, WIDTH, HEIGHT)\n",
    "# samples[1] is a tensor of shape (BATCH_SIZE,)\n",
    "dataloader = torch.utils.data.DataLoader(dataset, batch_size=BATCH_SIZE, shuffle=True)"
   ]
  },
  {
   "attachments": {},
   "cell_type": "markdown",
   "metadata": {},
   "source": [
    "Inspect statistics of the dataset."
   ]
  },
  {
   "cell_type": "code",
   "execution_count": 5,
   "metadata": {},
   "outputs": [
    {
     "name": "stdout",
     "output_type": "stream",
     "text": [
      "| Property   |   Value |\n",
      "|------------|---------|\n",
      "| Size       |   60000 |\n"
     ]
    }
   ],
   "source": [
    "# Get the size of the dataset.\n",
    "dataset_size = len(dataset)\n",
    "\n",
    "# Construct data structures used by tabulate.\n",
    "headers = ['Property', 'Value']\n",
    "rows = [\n",
    "    ['Size', dataset_size],\n",
    "]\n",
    "\n",
    "# Print the table.\n",
    "print(tabulate(rows, headers=headers, tablefmt='github'))"
   ]
  },
  {
   "attachments": {},
   "cell_type": "markdown",
   "metadata": {},
   "source": [
    "Inspect samples from the dataset."
   ]
  },
  {
   "cell_type": "code",
   "execution_count": 6,
   "metadata": {},
   "outputs": [
    {
     "data": {
      "image/png": "[encoded data removed]",
      "text/plain": [
       "<Figure size 800x350 with 10 Axes>"
      ]
     },
     "metadata": {},
     "output_type": "display_data"
    }
   ],
   "source": [
    "# Sample 10 unique indices from the index range of the dataset.\n",
    "indices = random.sample(range(dataset_size), k=10)\n",
    "\n",
    "# Plot figure.\n",
    "rows, cols = 2, 5\n",
    "fig, axs = plt.subplots(rows, cols, figsize=(8, 3.5))\n",
    "for i in range(len(indices)):\n",
    "    row = i // cols\n",
    "    col = i % cols\n",
    "    axs[row][col].imshow(dataset[indices[i]][0].permute(1, 2, 0), cmap=plt.cm.gray)\n",
    "    axs[row][col].axis('off')\n",
    "plt.tight_layout()\n",
    "plt.show()"
   ]
  },
  {
   "attachments": {},
   "cell_type": "markdown",
   "metadata": {},
   "source": [
    "## 2. Diffusion"
   ]
  },
  {
   "cell_type": "code",
   "execution_count": 22,
   "metadata": {},
   "outputs": [],
   "source": [
    "class Diffusion:\n",
    "    \"\"\"Difusion class performs forward and backward diffusion.\"\"\"\n",
    "\n",
    "    def __init__(self, time_steps=1000):\n",
    "        \"\"\"\n",
    "        Args:\n",
    "            timesteps (int): maximum diffusion timesteps.\n",
    "        \"\"\"\n",
    "\n",
    "        # Remember the instance attributes.\n",
    "        self.time_steps = time_steps\n",
    "\n",
    "        # Perform pre-calculations.\n",
    "        self._performPreCalculations()\n",
    "\n",
    "    def q_sample(self, x_0, t):\n",
    "        \"\"\"Perform forward diffusion.\n",
    "        \n",
    "        Args:\n",
    "            x_0 (shape (batch_size, channels, height, width) & dtype torch.float32): original images.\n",
    "            t (shape (batch_size,) & dtype torch.int64): time representation.\n",
    "\n",
    "        Returns: noisy images of shape (batch_size, channels, height, width) and dtype torch.float32.\n",
    "        \"\"\"\n",
    "\n",
    "        # Noise added to the images.\n",
    "        # A tensor of shape (batch_size, channels, height, width) and dtype torch.float32.\n",
    "        noise = torch.randn_like(x_0)\n",
    "\n",
    "        # A tensor of shape (batch_size, 1, 1, 1) and dtype torch.float32.\n",
    "        sqrt_alphas_cumprod = self._gatherFromTensor(self.sqrt_alphas_cumprod, t)\n",
    "        # A tensor of shape (batch_size, 1, 1, 1) and dtype torch.float32.\n",
    "        sqrt_one_minus_alphas_cumprod = self._gatherFromTensor(self.sqrt_one_minus_alphas_cumprod, t)\n",
    "\n",
    "        # A tensor of shape (batch_size, channels, height, width) and dtype torch.float32.\n",
    "        return sqrt_alphas_cumprod * x_0 + sqrt_one_minus_alphas_cumprod * noise\n",
    "\n",
    "    def _beta_schedule(self):\n",
    "        \"\"\"Generate betas for adding noise to images in a linear way.\n",
    "\n",
    "        The article [1] uses 1000 time steps, and uses 0.0001 as the starting beta and 0.02 as the ending beta.\n",
    "        If we use a different time steps, we need to scale it to make sure the noised added is enough.\n",
    "\n",
    "        Return: A tensor of shape (self.time_steps,) and dtype torch.float32.\n",
    "        \"\"\"\n",
    "\n",
    "        # Calculate the scale of the starting and ending betas.\n",
    "        scale = 1000 / self.time_steps\n",
    "\n",
    "        # Scale the starting and ending betas.\n",
    "        beta_start_scaled = 0.0001 * scale\n",
    "        beta_end_scaled = 0.02 * scale\n",
    "\n",
    "        # Return a tensor of shape (self.time_steps,) and dtype torch.float32.\n",
    "        return torch.linspace(start=beta_start_scaled, end=beta_end_scaled, steps=self.time_steps, device=DEVICE)\n",
    "\n",
    "    def _performPreCalculations(self):\n",
    "        \"\"\"Perform pre-calculations.\"\"\"\n",
    "\n",
    "        # A tensor of shape (self.time_steps,) and dtype torch.float32.\n",
    "        betas = self._beta_schedule()\n",
    "\n",
    "        # A tensor of shape (self.time_steps,) and dtype torch.float32.\n",
    "        alphas = 1 - betas\n",
    "\n",
    "        # A tensor of shape (self.time_steps,) and dtype torch.float32.\n",
    "        self.alphas_cumprod = alphas.cumprod(dim=0)\n",
    "\n",
    "        # A tensor of shape (self.time_steps,) and dtype torch.float32.\n",
    "        self.sqrt_alphas_cumprod = self.alphas_cumprod.sqrt()\n",
    "\n",
    "        # A tensor of shape (self.time_steps,) and dtype torch.float32.\n",
    "        self.sqrt_one_minus_alphas_cumprod = (1 - self.alphas_cumprod).sqrt()\n",
    "\n",
    "    def _gatherFromTensor(self, tensor, t):\n",
    "        \"\"\"Gather from tensor by the index t and make the shape as (batch_size, 1, 1, 1).\n",
    "\n",
    "        Args:\n",
    "            tensor (shape (self.time_steps,) & dtype torch.float32): tensor to gather from.\n",
    "            t (shape (batch_size,) & dtype torch.int64): time representation.\n",
    "\n",
    "        Return: A tensor of shape (batch_size, 1, 1, 1).\n",
    "        \"\"\"\n",
    "\n",
    "        # Calculate the batch size.\n",
    "        batch_size = t.size()[0]\n",
    "\n",
    "        # A tensor of shape (batch_size,) and torch.float32.\n",
    "        tensor = tensor.gather(dim=0, index=t)\n",
    "\n",
    "        # A tensor of shape (batch_size, 1, 1, 1) and torch.float32.\n",
    "        return tensor.reshape(batch_size, 1, 1, 1)\n",
    "\n",
    "diffusion = Diffusion(TIME_STEPS)"
   ]
  },
  {
   "attachments": {},
   "cell_type": "markdown",
   "metadata": {},
   "source": [
    "### 2.1. Forward Diffusion"
   ]
  },
  {
   "cell_type": "code",
   "execution_count": 31,
   "metadata": {},
   "outputs": [
    {
     "data": {
      "image/png": "[encoded data removed]",
      "text/plain": [
       "<Figure size 1200x350 with 16 Axes>"
      ]
     },
     "metadata": {},
     "output_type": "display_data"
    }
   ],
   "source": [
    "num_samples = 8\n",
    "\n",
    "# Sample images from the dataset.\n",
    "# A tensor of shape (num_samples, CHANNELS, HEIGHT, WIDTH) and dtype torch.float32.\n",
    "images = next(iter(dataloader))[0][:num_samples].to(DEVICE)\n",
    "\n",
    "# Sample time steps that are in [0, TIME_STEPS).\n",
    "# A tensor of shape (num_samples,) and dtype torch.int64.\n",
    "t = torch.randint(0, TIME_STEPS, (8,), device=DEVICE)\n",
    "\n",
    "# Add noise to the images.\n",
    "# A tensor of shape (num_samples, CHANNELS, HEIGHT, WIDTH) and dtype torch.float32.\n",
    "noisy_images = diffusion.q_sample(images, t)\n",
    "\n",
    "# Show the noisy images.\n",
    "rows, cols = 2, num_samples\n",
    "fig, axs = plt.subplots(rows, cols, figsize=(12, 3.5))\n",
    "for col in range(cols):\n",
    "    axs[0][col].imshow(images[col].permute(1, 2, 0).cpu(), cmap=plt.cm.gray)\n",
    "    axs[0][col].axis('off')\n",
    "for col in range(cols):\n",
    "    axs[1][col].imshow(noisy_images[col].permute(1, 2, 0).cpu(), cmap=plt.cm.gray)\n",
    "    axs[1][col].axis('off')\n",
    "    axs[1][col].set_title(t[col].item())\n",
    "plt.tight_layout()\n",
    "plt.show()"
   ]
  },
  {
   "attachments": {},
   "cell_type": "markdown",
   "metadata": {},
   "source": [
    "## 3. Model"
   ]
  },
  {
   "attachments": {},
   "cell_type": "markdown",
   "metadata": {},
   "source": [
    "### 3.1. Time embedding."
   ]
  },
  {
   "cell_type": "code",
   "execution_count": 33,
   "metadata": {},
   "outputs": [],
   "source": [
    "def time_embedding(t, dims, period_max=10000.):\n",
    "    \"\"\"Calculate embedding for time steps.\n",
    "\n",
    "    Args:\n",
    "        t (shape (batch_size,) & dtype torch.int64): time representation.\n",
    "        dims (int): dimensions of the embedding.\n",
    "        period_max(float): max period of sinusoidal and cosinoidal functions.\n",
    "\n",
    "    Return: time embedding of shape (batch_size, dim) and dtype torch.float32.\n",
    "    \"\"\"\n",
    "\n",
    "    # batch_size is a Python int.\n",
    "    batch_size = t.size()[0]\n",
    "\n",
    "    # Calculate half of the embedding dimension.\n",
    "    # half is a Python int.\n",
    "    half = dims // 2\n",
    "\n",
    "    # Calculate the parameter w that controls frequencies.\n",
    "    # A tensor of shape (half,) and dtype torch.float32.\n",
    "    w = torch.exp(\n",
    "        -math.log(period_max) *\n",
    "        torch.arange(start=0, end=half, dtype=torch.float32, device=DEVICE) / half\n",
    "    )\n",
    "    \n",
    "    # args is the arguments of sinusoidal and cosinoidal functions.\n",
    "    # args is a tensor of shape (batch_size, half) and dtype torch.float32.\n",
    "    # t[:, None] is a tensor of shape (batch_size, 1) and dtype torch.int64.\n",
    "    # w[None, :] is a tensor of shape (1, half) and dtype torch.float32.\n",
    "    args = t[:, None].float() * w[None, :]\n",
    "    \n",
    "    # A tensor of shape (batch_size, half*2) and dtype torch.float32.\n",
    "    embedding = torch.cat([torch.cos(args), torch.sin(args)], dim=-1)\n",
    "\n",
    "    # A tensor of shape (batch_size, dim) and dtype torch.float32.\n",
    "    if dims % 2 != 0:\n",
    "        embedding = torch.cat([embedding, torch.zeros(batch_size, 1)], dim=-1)\n",
    "\n",
    "    # A tensor of shape (batch_size, dim) and dtype torch.float32.\n",
    "    return embedding"
   ]
  },
  {
   "attachments": {},
   "cell_type": "markdown",
   "metadata": {},
   "source": [
    "### 3.2. Blocks"
   ]
  },
  {
   "attachments": {},
   "cell_type": "markdown",
   "metadata": {},
   "source": [
    "Define a module that accepts time embedding."
   ]
  },
  {
   "cell_type": "code",
   "execution_count": 34,
   "metadata": {},
   "outputs": [],
   "source": [
    "class EmbeddingBlock(torch.nn.Module, abc.ABC):\n",
    "    \"\"\"Any module whose forward method takes time embedding as a second argument.\"\"\"\n",
    "\n",
    "    @abc.abstractmethod\n",
    "    def forward(self, x, embedding):\n",
    "        \"\"\"Take x and embbeding as the inputs.\"\"\""
   ]
  },
  {
   "attachments": {},
   "cell_type": "markdown",
   "metadata": {},
   "source": [
    "Define a sequential module that contains EmbeddingBlock."
   ]
  },
  {
   "cell_type": "code",
   "execution_count": null,
   "metadata": {},
   "outputs": [],
   "source": [
    "class EmbeddingSequential(torch.nn.Sequential, EmbeddingBlock):\n",
    "    \"\"\"A sequential module that contains EmbeddingBlock.\"\"\"\n",
    "\n",
    "    def forward(self, x, embedding):\n",
    "        \"\"\"Take x and embbeding as the inputs.\"\"\"\n",
    "\n",
    "        for layer in self:\n",
    "            if isinstance(layer, EmbeddingBlock):\n",
    "                x = layer(x, embedding)\n",
    "            else:\n",
    "                x = layer(x)\n",
    "        \n",
    "        return x"
   ]
  },
  {
   "attachments": {},
   "cell_type": "markdown",
   "metadata": {},
   "source": [
    "Define the residual block."
   ]
  },
  {
   "cell_type": "code",
   "execution_count": 40,
   "metadata": {},
   "outputs": [],
   "source": [
    "class ResidualBlock(EmbeddingBlock):\n",
    "    \"\"\"Residual block.\"\"\"\n",
    "\n",
    "    def __init__(self, in_channels, out_channels, time_embedding_channels=TIME_EMBEDDING_CHANNELS, groups=GROUP_NORM_GROUPS, dropout=DROPOUT):\n",
    "        \"\"\"\n",
    "        Args:\n",
    "            in_channels (int): channels of the input.\n",
    "            out_channels (int): channels of the output.\n",
    "            time_embedding_channels (int): channels of the time embedding.\n",
    "            groups (int): number of groups for group normalization. in_channels and out_channels must be divisible by groups.\n",
    "            dropout (float): dropout rate.\n",
    "        \"\"\"\n",
    "\n",
    "        super().__init__()\n",
    "\n",
    "        # Input is a tensor of shape (batch_size, in_channels, height, width) and dtype torch.float32.\n",
    "        # Output is a tensor of shape (batch_size, out_channels, height, width) and dtype torch.float32.\n",
    "        self.conv1 = torch.nn.Sequential(\n",
    "            torch.nn.GroupNorm(groups, in_channels),\n",
    "            torch.nn.SiLU(),\n",
    "            torch.nn.Conv2d(in_channels, out_channels, kernel_size=3, padding='same'),\n",
    "        )\n",
    "\n",
    "        # Input is a tensor of shape (batch_size, time_embedding_channels) and dtype torch.float32.\n",
    "        # Output is a tensor of shape (batch_size, out_channels) and dtype torch.float32.\n",
    "        self.embedding = torch.nn.Sequential(\n",
    "            torch.nn.SiLU(),\n",
    "            torch.nn.Linear(time_embedding_channels, out_channels),\n",
    "        )\n",
    "\n",
    "        # Input is a tensor of shape (batch_size, out_channels, height, width) and dtype torch.float32.\n",
    "        # Output is a tensor of shape (batch_size, out_channels) and dtype torch.float32.\n",
    "        self.conv2 = torch.nn.Sequential(\n",
    "            torch.nn.GroupNorm(groups, out_channels),\n",
    "            torch.nn.SiLU(),\n",
    "            torch.nn.Dropout(p=dropout),\n",
    "            torch.nn.Conv2d(out_channels, out_channels, kernel_size=3, padding='same'),\n",
    "        )\n",
    "\n",
    "        # Skip connection.\n",
    "        if in_channels != out_channels:\n",
    "            self.shortcut = torch.nn.Conv2d(in_channels, out_channels, kernel_size=1)\n",
    "        else:\n",
    "            self.shortcut = torch.nn.Identity()\n",
    "\n",
    "    def forward(self, x, embedding):\n",
    "        \"\"\"\n",
    "        Args:\n",
    "            x (shape (batch_size, in_channels, height, width) & dtype torch.float32)\n",
    "            embedding (shape (batch_size, time_embedding_channels) & dtype torch.float32)\n",
    "\n",
    "        Return: a tensor of shape (batch_size, out_channels, height, width) and dtype torch.float32.\n",
    "        \"\"\"\n",
    "\n",
    "        # A tensor of shape (batch_size, out_channels, height, width) and dtype ttorch.float32.\n",
    "        out = self.conv1(x)\n",
    "        # A tensor of shape (batch_size, out_channels, height, width) and dtype ttorch.float32.\n",
    "        out += self.embedding(embedding)[:, :, None, None]\n",
    "        # A tensor of shape (batch_size, out_channels, height, width) and dtype ttorch.float32.\n",
    "        out = self.conv2(out)\n",
    "\n",
    "        # A tensor of shape (batch_size, out_channels, height, width) and dtype ttorch.float32.\n",
    "        return out + self.shortcut(x)"
   ]
  }
 ],
 "metadata": {
  "kernelspec": {
   "display_name": "base",
   "language": "python",
   "name": "python3"
  },
  "language_info": {
   "codemirror_mode": {
    "name": "ipython",
    "version": 3
   },
   "file_extension": ".py",
   "mimetype": "text/x-python",
   "name": "python",
   "nbconvert_exporter": "python",
   "pygments_lexer": "ipython3",
   "version": "3.9.13"
  },
  "orig_nbformat": 4
 },
 "nbformat": 4,
 "nbformat_minor": 2
}
