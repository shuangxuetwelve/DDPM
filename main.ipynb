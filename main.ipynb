{
 "cells": [
  {
   "attachments": {},
   "cell_type": "markdown",
   "metadata": {},
   "source": [
    "# Denoising Diffusion Probabilistic Models (DDPM)"
   ]
  },
  {
   "attachments": {},
   "cell_type": "markdown",
   "metadata": {},
   "source": [
    "This notebook is an implementation of the DDPM model proposed in the article by Ho et al. [1]."
   ]
  },
  {
   "cell_type": "code",
   "execution_count": 1,
   "metadata": {},
   "outputs": [],
   "source": [
    "# Python imports\n",
    "import random\n",
    "import math\n",
    "import abc\n",
    "import os\n",
    "\n",
    "# PyTorch imports\n",
    "import torch\n",
    "import torchvision\n",
    "\n",
    "# Third-party imports\n",
    "import matplotlib.pyplot as plt\n",
    "from tabulate import tabulate\n",
    "\n",
    "# Own imports\n",
    "import utils"
   ]
  },
  {
   "attachments": {},
   "cell_type": "markdown",
   "metadata": {},
   "source": [
    "## 0. Constants"
   ]
  },
  {
   "cell_type": "code",
   "execution_count": 2,
   "metadata": {},
   "outputs": [],
   "source": [
    "# Hyper-parameters.\n",
    "BATCH_SIZE = 64\n",
    "LEARNING_RATE = 0.001\n",
    "EPOCHS = 10\n",
    "GROUP_NORM_GROUPS = 32\n",
    "\n",
    "# Diffusion model parameters.\n",
    "TIMESTAMPS = 1000\n",
    "\n",
    "# Dataset parameters.\n",
    "WIDTH = 32\n",
    "HEIGHT = 32\n",
    "WIDTH_ORI = 28\n",
    "HEIGHT_ORI = 28\n",
    "CHANNELS = 1\n",
    "\n",
    "# VARIANTS\n",
    "VARIANT_LEARNING_RATES = [0.0001, 0.001, 0.01]\n",
    "\n",
    "# Others\n",
    "SAVED_FILENAME_PREFIX = 'MNIST'"
   ]
  },
  {
   "attachments": {},
   "cell_type": "markdown",
   "metadata": {},
   "source": [
    "Decide which device to run the model."
   ]
  },
  {
   "cell_type": "code",
   "execution_count": 3,
   "metadata": {},
   "outputs": [
    {
     "name": "stdout",
     "output_type": "stream",
     "text": [
      "Using cuda device\n"
     ]
    }
   ],
   "source": [
    "DEVICE = 'cuda' if torch.cuda.is_available() else 'mps' if torch.backends.mps.is_available() else 'cpu'\n",
    "\n",
    "# Print the device to run the model.\n",
    "print(f\"Using {DEVICE} device\")"
   ]
  },
  {
   "attachments": {},
   "cell_type": "markdown",
   "metadata": {},
   "source": [
    "## 1. Dataset"
   ]
  },
  {
   "attachments": {},
   "cell_type": "markdown",
   "metadata": {},
   "source": [
    "Let's use CelebA as our dataset."
   ]
  },
  {
   "cell_type": "code",
   "execution_count": 4,
   "metadata": {},
   "outputs": [],
   "source": [
    "# Each item in dataset is a tuple of (torch.Tensor, int).\n",
    "# The first tensor is of shape (CHANNELS, HEIGHT, WIDTH) and dtype torch.float32, which is the image.\n",
    "dataset = utils.MNIST(\n",
    "    './data',\n",
    "    train=True,\n",
    "    transform=torchvision.transforms.Compose([torchvision.transforms.ToTensor(), torchvision.transforms.Resize((HEIGHT, WIDTH), antialias=True)]),\n",
    ")"
   ]
  },
  {
   "attachments": {},
   "cell_type": "markdown",
   "metadata": {},
   "source": [
    "Create a dataloader for the dataset."
   ]
  },
  {
   "cell_type": "code",
   "execution_count": 5,
   "metadata": {},
   "outputs": [],
   "source": [
    "# samples = next(iter(dataloader))\n",
    "# samples is a Python list of len 2.\n",
    "# samples[0] is a tensor of shape (BATCH_SIZE, 1, WIDTH, HEIGHT)\n",
    "# samples[1] is a tensor of shape (BATCH_SIZE, 40)\n",
    "dataloader = torch.utils.data.DataLoader(dataset, batch_size=BATCH_SIZE, shuffle=True)"
   ]
  },
  {
   "attachments": {},
   "cell_type": "markdown",
   "metadata": {},
   "source": [
    "Print out the statistics of the dataset."
   ]
  },
  {
   "cell_type": "code",
   "execution_count": 6,
   "metadata": {},
   "outputs": [
    {
     "name": "stdout",
     "output_type": "stream",
     "text": [
      "| Property   |   Value |\n",
      "|------------|---------|\n",
      "| Size       |   60000 |\n"
     ]
    }
   ],
   "source": [
    "# Get the size of the dataset.\n",
    "dataset_size = len(dataset)\n",
    "\n",
    "# Construct data structures used by tabulate.\n",
    "headers = ['Property', 'Value']\n",
    "rows = [\n",
    "    ['Size', dataset_size],\n",
    "]\n",
    "\n",
    "# Print the table.\n",
    "print(tabulate(rows, headers=headers, tablefmt='github'))"
   ]
  },
  {
   "attachments": {},
   "cell_type": "markdown",
   "metadata": {},
   "source": [
    "Show some samples from the dataset."
   ]
  },
  {
   "cell_type": "code",
   "execution_count": 7,
   "metadata": {},
   "outputs": [
    {
     "data": {
      "image/png": "[encoded data removed]",
      "text/plain": [
       "<Figure size 800x350 with 10 Axes>"
      ]
     },
     "metadata": {},
     "output_type": "display_data"
    }
   ],
   "source": [
    "# Sample 10 unique indices from the index range of the dataset.\n",
    "indices = random.sample(range(dataset_size), k=10)\n",
    "\n",
    "rows, cols = 2, 5\n",
    "fig, axs = plt.subplots(rows, cols, figsize=(8, 3.5))\n",
    "for i in range(len(indices)):\n",
    "    row = i // cols\n",
    "    col = i % cols\n",
    "    axs[row][col].imshow(dataset[indices[i]][0].permute(1, 2, 0), cmap=plt.cm.gray)\n",
    "    axs[row][col].axis('off')\n",
    "plt.tight_layout()"
   ]
  },
  {
   "attachments": {},
   "cell_type": "markdown",
   "metadata": {},
   "source": [
    "## 2. Forward Diffusion"
   ]
  },
  {
   "cell_type": "code",
   "execution_count": 8,
   "metadata": {},
   "outputs": [],
   "source": [
    "class Diffusion:\n",
    "\n",
    "    def __init__(self, timestamps_max):\n",
    "\n",
    "        self.timestamps_max = timestamps_max\n",
    "\n",
    "        self._calculateAlphas()\n",
    "\n",
    "    def _linear_beta_schedule(self, timestamps):\n",
    "        r\"\"\"Generate betas for adding noise to images in a linear way.\n",
    "\n",
    "        The returned value is a tensor of shape (timestamps,) and dtype torch.float32.\n",
    "        \"\"\"\n",
    "\n",
    "        scale = 1000 / timestamps\n",
    "        beta_start_scaled = 0.0001 * scale\n",
    "        beta_end_scaled = 0.02 * scale\n",
    "        return torch.linspace(start=beta_start_scaled, end=beta_end_scaled, steps=timestamps, device=DEVICE)\n",
    "    \n",
    "    def _calculateAlphas(self):\n",
    "        \"\"\"Calculate the variables related to alphas.\"\"\"\n",
    "\n",
    "        # self.betas is a tensor of shape (self.timestamps_max,) and dtype torch.float32.\n",
    "        self.betas = self._linear_beta_schedule(self.timestamps_max)\n",
    "        # self.alphas is a tensor of shape (self.timestamps_max,) and dtype torch.float32.\n",
    "        self.alphas = 1 - self.betas\n",
    "        # self.alphas_cumprod is a tensor of shape (self.timestamps_max,) and dtype torch.float32.\n",
    "        self.alphas_cumprod = self.alphas.cumprod(dim=0)\n",
    "        # self.sqrt_alphas_cumprod is a tensor of shape (self.timestamps_max,) and dtype torch.float32.\n",
    "        self.sqrt_alphas_cumprod = self.alphas_cumprod.sqrt()\n",
    "        # self.sqrt_one_minum_alphas_cumprod is a tensor of shape (self.timestamps_max,) and dtype torch.float32.\n",
    "        self.sqrt_one_minus_alphas_cumprod = (1 - self.alphas).sqrt()\n",
    "        # self.sqrt_recip_alphas_cumprod is a tensor of shape (self.timestamps_max,) and dtype torch.float32.\n",
    "        self.sqrt_recip_alphas_cumprod = torch.sqrt(1 / self.alphas_cumprod)\n",
    "        # self.sqrt_recipm1_alphas_cumprod is a tensor of shape (self.timestamps_max,) and dtype torch.float32.\n",
    "        self.sqrt_recipm1_alphas_cumprod = torch.sqrt(1 / self.alphas_cumprod - 1)\n",
    "        # self.alphas_cumprod_prev is a tensor of shape (self.timestamps_max,) and dtype torch.float32.\n",
    "        self.alphas_cumprod_prev = torch.nn.functional.pad(self.alphas_cumprod[:-1], pad=(1, 0), value=1)\n",
    "        # self.posterior_mean_coef1 is a tensor of shape (self.timestamps_max,) and dtype torch.float32.\n",
    "        self.posterior_mean_coef1 = self.betas * torch.sqrt(self.alphas_cumprod_prev) / (1 - self.alphas_cumprod)\n",
    "        # self.posterior_mean_coef2 is a tensor of shape (self.timestamps_max,) and dtype torch.float32.\n",
    "        self.posterior_mean_coef2 = (1 - self.alphas_cumprod_prev) * torch.sqrt(self.alphas) / (1 - self.alphas_cumprod)\n",
    "        # self.posterior_variance is a tensor of shape (self.timestamps_max,) and dtype torch.float32.\n",
    "        self.posterior_variance = self.betas * (1 - self.alphas_cumprod_prev) / (1 - self.alphas_cumprod)\n",
    "        # self.posterior_log_variance_clipped is a tensor of shape (self.timestamps_max,) and dtype torch.float32.\n",
    "        self.posterior_log_variance_clipped = torch.log(self.posterior_variance.clamp(min=1e-20))\n",
    "\n",
    "    def _constructAlphaTensor(self, src, t, num_dim):\n",
    "        \"\"\"Construct the alpha values or one minus alpha values for adding noise.\n",
    "\n",
    "        Args:\n",
    "            src (shape (self.timestamps_max,) & dtype torch.float32): self.sqrt_alphas_cumprod\n",
    "                or self.sqrt_one_minus_alphas_cumprod.\n",
    "            t (shape (BATCH_SIZE,) & dtype torch.int64): time representation.\n",
    "            num_dim (int): number of dimensions in the images.\n",
    "        \"\"\"\n",
    "\n",
    "        batch_size = t.size()[0]\n",
    "\n",
    "        # alphas is a tensor of shape (batch_size,) and torch.float32.\n",
    "        alphas = src.gather(dim=0, index=t)\n",
    "\n",
    "        # Return a tensor of shape (batch_size, 1, 1, 1) and torch.float32.\n",
    "        return alphas.reshape(batch_size, *((1,) * (num_dim-1)))\n",
    "\n",
    "    def q_sample(self, x_start, t, noise=None):\n",
    "        \"\"\"Forward diffusion.\n",
    "\n",
    "        Args:\n",
    "            x_start (shape (BATCH_SIZE, 3, HEIGHT, WIDTH) & dtype torch.float32): images to diffuse.\n",
    "            t (shape (BATCH_SIZE,) & dtype torch.int64): time representation.\n",
    "        \"\"\"\n",
    "\n",
    "        # Generate the noise.\n",
    "        # noise is a tensor of shape (BATCH_SIZE, 3, HEIGHT, WIDTH) and dtype torch.float32.\n",
    "        if noise == None:\n",
    "            noise = torch.randn_like(x_start)\n",
    "\n",
    "        # Generate the alpha values and one minus alpha value for adding noise.\n",
    "        # sqrt_alphas_cumprod_t is a tensor of shape (BATCH_SIZE, 1, 1, 1) and dtype torch.float32.\n",
    "        sqrt_alphas_cumprod_t = self._constructAlphaTensor(self.sqrt_alphas_cumprod, t, len(x_start.shape))\n",
    "        # sqrt_one_minus_alphas_cumprod_t is a tensor of shape (BATCH_SIZE, 1, 1, 1) and dtype torch.float32.\n",
    "        sqrt_one_minus_cumprod_t = self._constructAlphaTensor(self.sqrt_one_minus_alphas_cumprod, t, len(x_start.shape))\n",
    "        \n",
    "        # Return a tensor of shape (BATCH_SIZE, 3, HEIGHT, WIDTH) and dtype torch.float32.\n",
    "        return sqrt_alphas_cumprod_t * x_start + sqrt_one_minus_cumprod_t * noise\n",
    "    \n",
    "    def _q_mean_variance(self, x_0, x_t, t):\n",
    "\n",
    "        posterior_mean_coef1 = self._constructAlphaTensor(self.posterior_mean_coef1, t, len(x_t))\n",
    "        posterior_mean_coef2 = self._constructAlphaTensor(self.posterior_mean_coef2, t, len(x_t))\n",
    "\n",
    "        posterior_mean = posterior_mean_coef1 * x_0 + posterior_mean_coef2 * x_t\n",
    "        posterior_variance = self._constructAlphaTensor(self.posterior_variance, t, len(x_t))\n",
    "        posterior_log_variance_clipped = self._constructAlphaTensor(self.posterior_log_variance_clipped, t, len(x_t))\n",
    "\n",
    "        return posterior_mean, posterior_variance, posterior_log_variance_clipped\n",
    "    \n",
    "    def _predict_start_from_noise(self, x_t, t, noise):\n",
    "        \"\"\"Predict x_0 from x_t and noise.\"\"\"\n",
    "\n",
    "        # sqrt_recip_alphas_cumprod_t is a tensor of shape (BATCH_SIZE, 1, 1, 1) and dtype torch.float32.\n",
    "        sqrt_recip_alphas_cumprod_t = self._constructAlphaTensor(self.sqrt_recip_alphas_cumprod, t, len(x_t))\n",
    "        # sqrt_recipm1_alphas_cumprod_t is a tensor of shape (BATCH_SIZE, 1, 1, 1) and dtype torch.float32.\n",
    "        sqrt_recipm1_alphas_cumprod_t = self._constructAlphaTensor(self.sqrt_recipm1_alphas_cumprod, t, len(x_t))\n",
    "\n",
    "        return sqrt_recip_alphas_cumprod_t * x_t - sqrt_recipm1_alphas_cumprod_t * noise\n",
    "\n",
    "    def _p_mean_variance(self, model, x_t, t, clip_denoised=True):\n",
    "        \"\"\"\n",
    "        Args:\n",
    "            x_t (shape (BATCH_SIZE, CHANNELS, HEIGHT, WIDTH) & dtype torch.float32)\n",
    "            t (shape (BATCH_SIZE,) & dtype torch.int64): time representation\n",
    "        \"\"\"\n",
    "\n",
    "        # Predict the noise.\n",
    "        model.eval()\n",
    "        noise_predicted = model(x_t, t)\n",
    "\n",
    "        # Reconstruct x_0.\n",
    "        x_0_reconstructed = self._predict_start_from_noise(x_t, t, noise_predicted)\n",
    "\n",
    "        if clip_denoised:\n",
    "            x_0_reconstructed = x_0_reconstructed.clamp(min=-1, max=1)\n",
    "\n",
    "        model_mean, posterior_variance, posterior_log_variance = self._q_mean_variance(x_0_reconstructed, x_t, t)\n",
    "\n",
    "        return model_mean, posterior_variance, posterior_log_variance\n",
    "    \n",
    "    def _p_sample(self, model, x_t, t, clip_denoise=True):\n",
    "\n",
    "        model_mean, _, model_log_variance = self._p_mean_variance(model, x_t, t, clip_denoise)\n",
    "\n",
    "        noise = torch.randn_like(x_t)\n",
    "        nonzero_mask = ((t != 0).float().view(-1, *([1] * (len(x_t.shape) - 1))))\n",
    "\n",
    "        images_predicted = model_mean + nonzero_mask * (model_log_variance * 0.5).exp() * noise\n",
    "\n",
    "        return images_predicted\n",
    "    \n",
    "    def _p_sample_loop(self, model, batch_size, channels, height, width, timestamps_max):\n",
    "\n",
    "        images = torch.randn((batch_size, channels, height, width), device=DEVICE)\n",
    "\n",
    "        with torch.no_grad():\n",
    "            for i in reversed(range(timestamps_max)):\n",
    "                images = self._p_sample(model, images, torch.full((batch_size,), i, dtype=torch.int64, device=DEVICE))\n",
    "\n",
    "        return images\n"
   ]
  },
  {
   "cell_type": "code",
   "execution_count": 9,
   "metadata": {},
   "outputs": [
    {
     "data": {
      "image/png": "[encoded data removed]",
      "text/plain": [
       "<Figure size 500x350 with 6 Axes>"
      ]
     },
     "metadata": {},
     "output_type": "display_data"
    }
   ],
   "source": [
    "diffusion = Diffusion(TIMESTAMPS)\n",
    "\n",
    "# t is a tensor of shape (BATCH_SIZE,) and dtype torch.int64.\n",
    "t = torch.randint(0, TIMESTAMPS, (BATCH_SIZE,), device=DEVICE)\n",
    "\n",
    "# Sample 5 images from the dataset.\n",
    "# images is a tensor of shape (BATCH_SIZE, 3, 218, 178) and dtype torch.float32.\n",
    "images = next(iter(dataloader))[0].to(DEVICE)\n",
    "\n",
    "# Add noise to the images.\n",
    "noisy_images = diffusion.q_sample(images, t)\n",
    "\n",
    "# Show the noisy images.\n",
    "rows, cols = 2, 3\n",
    "fig, axs = plt.subplots(rows, cols, figsize=(5, 3.5))\n",
    "for col in range(cols):\n",
    "    axs[0][col].imshow(images[col].permute(1, 2, 0).cpu(), cmap=plt.cm.gray)\n",
    "    axs[0][col].axis('off')\n",
    "for col in range(cols):\n",
    "    axs[1][col].imshow(noisy_images[col].permute(1, 2, 0).cpu(), cmap=plt.cm.gray)\n",
    "    axs[1][col].axis('off')\n",
    "    axs[1][col].set_title(t[col].item())\n",
    "plt.tight_layout()"
   ]
  },
  {
   "attachments": {},
   "cell_type": "markdown",
   "metadata": {},
   "source": [
    "## 3. Model"
   ]
  },
  {
   "attachments": {},
   "cell_type": "markdown",
   "metadata": {},
   "source": [
    "Timestamp embedding."
   ]
  },
  {
   "cell_type": "code",
   "execution_count": 10,
   "metadata": {},
   "outputs": [],
   "source": [
    "def time_embedding(t, dim, period_max=10000.):\n",
    "    \"\"\"Calculate embedding for timestamps.\n",
    "\n",
    "    Args:\n",
    "        t (shape (BATCH_SIZE,) & dtype torch.int64): time representation.\n",
    "        dim (int): dimension of the embedding.\n",
    "        period_max(float): max period of sinusoidal and cosinoidal functions.\n",
    "    \"\"\"\n",
    "\n",
    "    # batch_size is a Python int.\n",
    "    batch_size = t.size()[0]\n",
    "\n",
    "    # Calculate half of the embedding dimension.\n",
    "    # half is a Python float.\n",
    "    half = dim // 2\n",
    "\n",
    "    # Calculate the parameter w that controls frequencies.\n",
    "    # w is a tensor of shape (half,) and dtype torch.float32.\n",
    "    w = torch.exp(\n",
    "        -math.log(period_max) *\n",
    "        torch.arange(start=0, end=half, dtype=torch.float32, device=DEVICE) / half\n",
    "    )\n",
    "    \n",
    "    # args is the arguments of sinusoidal and cosinoidal functions.\n",
    "    # args is a tensor of shape (batch_size, half) and dtype torch.float32.\n",
    "    # t[:, None] is a tensor of shape (batch_size, 1) and dtype torch.int64.\n",
    "    # w[None, :] is a tensor of shape (1, half) and dtype torch.float32.\n",
    "    args = t[:, None].float() * w[None, :]\n",
    "    \n",
    "    # embedding is a tensor of shape (batch_size, half*2) and dtype torch.float32.\n",
    "    embedding = torch.cat([torch.sin(args), torch.cos(args)], dim=-1)\n",
    "\n",
    "    # embedding is a tensor of shape (batch_size, dim) and dtype torch.float32.\n",
    "    if dim % 2 != 0:\n",
    "        embedding = torch.cat([embedding, torch.zeros(batch_size, 1)], dim=-1)\n",
    "\n",
    "    return embedding"
   ]
  },
  {
   "attachments": {},
   "cell_type": "markdown",
   "metadata": {},
   "source": [
    "Define a module that accepts time embedding."
   ]
  },
  {
   "cell_type": "code",
   "execution_count": 11,
   "metadata": {},
   "outputs": [],
   "source": [
    "class EmbeddingBlock(torch.nn.Module, abc.ABC):\n",
    "    \"\"\"Any module where forward() takes timestep embeddings as\n",
    "    a second argument.\n",
    "    \"\"\"\n",
    "\n",
    "    @abc.abstractmethod\n",
    "    def forward(self, x, embedding):\n",
    "        \"\"\"Take x and embbeding as the inputs.\"\"\""
   ]
  },
  {
   "attachments": {},
   "cell_type": "markdown",
   "metadata": {},
   "source": [
    "Define a sequential module that contains EmbeddingBlock."
   ]
  },
  {
   "cell_type": "code",
   "execution_count": 12,
   "metadata": {},
   "outputs": [],
   "source": [
    "class EmbeddingSequential(torch.nn.Sequential, EmbeddingBlock):\n",
    "    \"\"\"A sequential module that contains EmbeddingBlock.\"\"\"\n",
    "\n",
    "    def forward(self, x, embedding):\n",
    "        \"\"\"Take x and embbeding as the inputs.\"\"\"\n",
    "\n",
    "        for layer in self:\n",
    "            if isinstance(layer, EmbeddingBlock):\n",
    "                x = layer(x, embedding)\n",
    "            else:\n",
    "                x = layer(x)\n",
    "        \n",
    "        return x"
   ]
  },
  {
   "attachments": {},
   "cell_type": "markdown",
   "metadata": {},
   "source": [
    "Define the residual block."
   ]
  },
  {
   "cell_type": "code",
   "execution_count": 13,
   "metadata": {},
   "outputs": [],
   "source": [
    "class ResidualBlock(EmbeddingBlock):\n",
    "    \"\"\"Residual block that takes time embedding as an input.\"\"\"\n",
    "\n",
    "    def __init__(self, in_channels, out_channels, embedding_channels, dropout):\n",
    "        super().__init__()\n",
    "\n",
    "        self.conv1 = torch.nn.Sequential(\n",
    "            torch.nn.GroupNorm(GROUP_NORM_GROUPS, in_channels),\n",
    "            torch.nn.SiLU(),\n",
    "            torch.nn.Conv2d(in_channels, out_channels, kernel_size=3, padding='same'),\n",
    "        )\n",
    "\n",
    "        self.embedding = torch.nn.Sequential(\n",
    "            torch.nn.SiLU(),\n",
    "            torch.nn.Linear(embedding_channels, out_channels),\n",
    "        )\n",
    "\n",
    "        self.conv2 = torch.nn.Sequential(\n",
    "            torch.nn.GroupNorm(GROUP_NORM_GROUPS, out_channels),\n",
    "            torch.nn.SiLU(),\n",
    "            torch.nn.Dropout(p=dropout),\n",
    "            torch.nn.Conv2d(out_channels, out_channels, kernel_size=3, padding='same'),\n",
    "        )\n",
    "\n",
    "        if in_channels != out_channels:\n",
    "            self.shortcut = torch.nn.Conv2d(in_channels, out_channels, kernel_size=1)\n",
    "        else:\n",
    "            self.shortcut = torch.nn.Identity()\n",
    "\n",
    "    def forward(self, x, embedding):\n",
    "        \"\"\"\n",
    "        Args:\n",
    "            x (shape (BATCH_SIZE, in_channels, height, width) & dtype torch.float32)\n",
    "            embedding (shape (BATCH_SIZE, dim) & dtype torch.float32)\n",
    "        \"\"\"\n",
    "\n",
    "        out = self.conv1(x)\n",
    "        out += self.embedding(embedding)[:, :, None, None]\n",
    "        out = self.conv2(out)\n",
    "        return out + self.shortcut(x)"
   ]
  },
  {
   "attachments": {},
   "cell_type": "markdown",
   "metadata": {},
   "source": [
    "Define the attention block."
   ]
  },
  {
   "cell_type": "code",
   "execution_count": 14,
   "metadata": {},
   "outputs": [],
   "source": [
    "class AttentionBlock(torch.nn.Module):\n",
    "    \"\"\"Attention block.\"\"\"\n",
    "\n",
    "    def __init__(self, channels, heads=1):\n",
    "        super().__init__()\n",
    "\n",
    "        self.heads = heads\n",
    "        assert channels % heads == 0\n",
    "\n",
    "        self.gn = torch.nn.GroupNorm(GROUP_NORM_GROUPS, channels)\n",
    "        self.qkv = torch.nn.Conv2d(channels, channels*3, kernel_size=1, bias=False)\n",
    "        self.proj = torch.nn.Conv2d(channels, channels, kernel_size=1)\n",
    "\n",
    "    def forward(self, x):\n",
    "\n",
    "        batch_size, channels, height, width = x.size()\n",
    "\n",
    "        # qkv is a tensor of shape (batch_size, channels*3, height, width)\n",
    "        qkv = self.qkv(self.gn(x))\n",
    "        # q, k, v are tensors of shape (batch_size, channels, height, width)\n",
    "        q, k, v = qkv.reshape(batch_size*self.heads, -1, height*width).chunk(3, dim=1)\n",
    "        scale = 1 / math.sqrt(math.sqrt(channels // self.heads))\n",
    "        attn = torch.einsum('bct,bcs->bts', q*scale, k*scale)\n",
    "        attn = attn.softmax(dim=-1)\n",
    "        h = torch.einsum('bts,bcs->bct', attn, v)\n",
    "        h = h.reshape(batch_size, -1, height, width)\n",
    "        h = self.proj(h)\n",
    "\n",
    "        return h + x"
   ]
  },
  {
   "attachments": {},
   "cell_type": "markdown",
   "metadata": {},
   "source": [
    "Define a downsampler class."
   ]
  },
  {
   "cell_type": "code",
   "execution_count": 15,
   "metadata": {},
   "outputs": [],
   "source": [
    "class Downsampler(torch.nn.Module):\n",
    "\n",
    "    def __init__(self, channels):\n",
    "        super().__init__()\n",
    "\n",
    "        self.conv = torch.nn.Conv2d(channels, channels, kernel_size=3, stride=2, padding=1)\n",
    "\n",
    "    def forward(self, x):\n",
    "\n",
    "        return self.conv(x)"
   ]
  },
  {
   "attachments": {},
   "cell_type": "markdown",
   "metadata": {},
   "source": [
    "Define an upsampler class."
   ]
  },
  {
   "cell_type": "code",
   "execution_count": 16,
   "metadata": {},
   "outputs": [],
   "source": [
    "class Upsampler(torch.nn.Module):\n",
    "\n",
    "    def __init__(self, channels):\n",
    "        super().__init__()\n",
    "\n",
    "        self.conv = torch.nn.Conv2d(channels, channels, kernel_size=3, padding='same')\n",
    "\n",
    "    def forward(self, x):\n",
    "\n",
    "        x = torch.nn.functional.interpolate(x, scale_factor=2, mode='nearest')\n",
    "        x = self.conv(x)\n",
    "\n",
    "        return x"
   ]
  },
  {
   "attachments": {},
   "cell_type": "markdown",
   "metadata": {},
   "source": [
    "Construct the model."
   ]
  },
  {
   "cell_type": "code",
   "execution_count": 17,
   "metadata": {},
   "outputs": [],
   "source": [
    "class Model(torch.nn.Module):\n",
    "\n",
    "    def __init__(\n",
    "        self,\n",
    "        in_channels=CHANNELS,\n",
    "        out_channels=CHANNELS,\n",
    "        model_channels = 128,\n",
    "        channel_mult = (1, 2, 2, 2),\n",
    "        res_blocks = 2,\n",
    "        dropout=0,\n",
    "        attention_resolutions = (8, 16),\n",
    "        heads=4,\n",
    "    ):\n",
    "        super().__init__()\n",
    "\n",
    "        self.in_channels = in_channels\n",
    "        self.out_channels = out_channels\n",
    "        self.model_channels = model_channels\n",
    "\n",
    "        # Construct layers.\n",
    "\n",
    "        # Variable to control layers and channels.\n",
    "        ds = 1\n",
    "        channels = model_channels\n",
    "\n",
    "        # Time embedding.\n",
    "        embedding_dim = model_channels * 4\n",
    "        self.embed = torch.nn.Sequential(\n",
    "            torch.nn.Linear(model_channels, embedding_dim),\n",
    "            torch.nn.SiLU(),\n",
    "            torch.nn.Linear(embedding_dim, embedding_dim)\n",
    "        )\n",
    "\n",
    "        # Downsampling blocks.\n",
    "        self.down_blocks = torch.nn.ModuleList([\n",
    "            EmbeddingSequential(torch.nn.Conv2d(in_channels, model_channels, kernel_size=3, padding='same'))\n",
    "        ])\n",
    "        down_block_channels = [model_channels]\n",
    "        for level, mult in enumerate(channel_mult):\n",
    "            for _ in range(res_blocks):\n",
    "                layers = [\n",
    "                    ResidualBlock(channels, model_channels*mult, embedding_dim, dropout),\n",
    "                ]\n",
    "                channels = model_channels * mult\n",
    "                if ds in attention_resolutions:\n",
    "                    layers.append(AttentionBlock(channels, heads=heads))\n",
    "                self.down_blocks.append(EmbeddingSequential(*layers))\n",
    "                down_block_channels.append(channels)\n",
    "            if level != len(channel_mult)-1:\n",
    "                self.down_blocks.append(EmbeddingSequential(Downsampler(channels)))\n",
    "                down_block_channels.append(channels)\n",
    "                ds *= 2\n",
    "\n",
    "        # Middle block.\n",
    "        self.middle_block = EmbeddingSequential(\n",
    "            ResidualBlock(channels, channels, embedding_dim, dropout),\n",
    "            AttentionBlock(channels, heads=heads),\n",
    "            ResidualBlock(channels, channels, embedding_dim, dropout),\n",
    "        )\n",
    "\n",
    "        # Upsampling blocks.\n",
    "        self.up_blocks = torch.nn.ModuleList([])\n",
    "        for level, mult in list(enumerate(channel_mult))[::-1]:\n",
    "            for i in range(res_blocks+1):\n",
    "                layers = [\n",
    "                    ResidualBlock(channels+down_block_channels.pop(), model_channels*mult, embedding_dim, dropout),\n",
    "                ]\n",
    "                channels = model_channels * mult\n",
    "                if ds in attention_resolutions:\n",
    "                    layers.append(AttentionBlock(channels, heads=heads))\n",
    "                if level > 0 and i == res_blocks:\n",
    "                    layers.append(Upsampler(channels))\n",
    "                    ds //= 2\n",
    "                self.up_blocks.append(EmbeddingSequential(*layers))\n",
    "\n",
    "        # Output block.\n",
    "        self.out = torch.nn.Sequential(\n",
    "            torch.nn.GroupNorm(GROUP_NORM_GROUPS, channels),\n",
    "            torch.nn.SiLU(),\n",
    "            torch.nn.Conv2d(model_channels, out_channels, kernel_size=3, padding='same')\n",
    "        )\n",
    "\n",
    "    def forward(self, x_t, t):\n",
    "        \"\"\"\n",
    "        Args:\n",
    "            x_t (shape (BATCH_SIZE, 3, HEIGHT, WIDTH) & dtype torch.float32): noisy images.\n",
    "            t (shape (BATCH_SIZE,) & dtype torch.int64): time representation.\n",
    "        \"\"\"\n",
    "\n",
    "        out = x_t\n",
    "        outs = []\n",
    "\n",
    "        # embedding is a tensor of shape (BATCH_SIZE, self.model_channels*4) and dtype torch.float32.\n",
    "        embedding = self.embed(time_embedding(t, self.model_channels))\n",
    "\n",
    "        # Downsampling stage.\n",
    "        for module in self.down_blocks:\n",
    "            out = module(out, embedding)\n",
    "            outs.append(out)\n",
    "\n",
    "        # Middle stage.\n",
    "        out = self.middle_block(out, embedding)\n",
    "\n",
    "        # Upsampling stage.\n",
    "        for module in self.up_blocks:\n",
    "            out = module(torch.cat([out, outs.pop()], dim=1), embedding)\n",
    "\n",
    "        return self.out(out)"
   ]
  },
  {
   "attachments": {},
   "cell_type": "markdown",
   "metadata": {},
   "source": [
    "Define a function to load from saved data."
   ]
  },
  {
   "cell_type": "code",
   "execution_count": 18,
   "metadata": {},
   "outputs": [],
   "source": [
    "def load(model, learning_rate):\n",
    "    \"\"\"Load the pre-trained models.\n",
    "    \n",
    "    Return losses: losses of the training process.\n",
    "    \"\"\"\n",
    "    \n",
    "    # Retrieve saved data.\n",
    "    data = torch.load(utils.getSavedFilePath(SAVED_FILENAME_PREFIX, learning_rate))\n",
    "\n",
    "    # Resume model from saved data.\n",
    "    state_dict = data['state_dict']\n",
    "    model.load_state_dict(state_dict)\n",
    "\n",
    "    return data['losses']"
   ]
  },
  {
   "attachments": {},
   "cell_type": "markdown",
   "metadata": {},
   "source": [
    "Define a function to save data."
   ]
  },
  {
   "cell_type": "code",
   "execution_count": 19,
   "metadata": {},
   "outputs": [],
   "source": [
    "def save(model, losses, learning_rate):\n",
    "    \"\"\"Save the trained models.\n",
    "    \n",
    "    Args:\n",
    "        losses (list of float): losses of the training process.\n",
    "    \"\"\"\n",
    "    \n",
    "    # Create folder 'saved' if it does not exist.\n",
    "    if not os.path.exists('saved'):\n",
    "        os.makedirs('saved')\n",
    "\n",
    "    # Construct the struct of data to save.\n",
    "    data = {\n",
    "        'state_dict': model.state_dict(),\n",
    "        'losses': losses,\n",
    "    }\n",
    "\n",
    "    # Save data to the file.\n",
    "    torch.save(data, utils.getSavedFilePath(SAVED_FILENAME_PREFIX, learning_rate))"
   ]
  },
  {
   "attachments": {},
   "cell_type": "markdown",
   "metadata": {},
   "source": [
    "## 4. Training"
   ]
  },
  {
   "attachments": {},
   "cell_type": "markdown",
   "metadata": {},
   "source": [
    "Define a function to calculate statistics on a dataset."
   ]
  },
  {
   "cell_type": "code",
   "execution_count": 20,
   "metadata": {},
   "outputs": [],
   "source": [
    "def calculateStatistics(dataloader, model, loss_fn):\n",
    "\n",
    "    # Put model into evaluation mode.\n",
    "    model.eval()\n",
    "    \n",
    "    with torch.no_grad():\n",
    "        loss = 0\n",
    "\n",
    "        for images, _ in dataloader:\n",
    "            images = images.to(DEVICE)\n",
    "\n",
    "            # Calculate batch size.\n",
    "            # Note that the last batch may not be equal to the pre-defined batch size.\n",
    "            batch_size = images.size()[0]\n",
    "\n",
    "            # Generate noise and predicted noise\n",
    "            noise = torch.randn_like(images, device=DEVICE)\n",
    "            t = torch.randint(0, TIMESTAMPS, (batch_size,), device=DEVICE)\n",
    "            noisy_images = diffusion.q_sample(images, t, noise)\n",
    "            noise_predicted = model(noisy_images, t)\n",
    "\n",
    "            # Calculate the loss.\n",
    "            loss += loss_fn(noise, noise_predicted)\n",
    "\n",
    "        # Calculate the mean loss.\n",
    "        batches = len(dataloader)\n",
    "        loss /= batches\n",
    "\n",
    "    return loss"
   ]
  },
  {
   "attachments": {},
   "cell_type": "markdown",
   "metadata": {},
   "source": [
    "Define a function to train one epoch."
   ]
  },
  {
   "cell_type": "code",
   "execution_count": 21,
   "metadata": {},
   "outputs": [],
   "source": [
    "def trainOneEpoch(model, dataloader, diffusion, optimizer, loss_fn):\n",
    "    \"\"\"Train the model for one epoch.\n",
    "    \n",
    "    Return loss_epoch: mean loss of the epoch.\n",
    "    \"\"\"\n",
    "\n",
    "    # Put model into training mode.\n",
    "    model.train(mode=True)\n",
    "\n",
    "    # Mean loss of the epoch.\n",
    "    loss_epoch = 0\n",
    "\n",
    "    for batch, [images, _] in enumerate(dataloader):\n",
    "        # Move data to the proper device.\n",
    "        images = images.to(DEVICE)\n",
    "\n",
    "        # Calculate batch size.\n",
    "        # Note that the last batch may not be equal to the pre-defined batch size.\n",
    "        batch_size = images.size()[0]\n",
    "\n",
    "        # Generate noise and predicted noise\n",
    "        noise = torch.randn_like(images, device=DEVICE)\n",
    "        t = torch.randint(0, TIMESTAMPS, (batch_size,), device=DEVICE)\n",
    "        noisy_images = diffusion.q_sample(images, t, noise)\n",
    "        noise_predicted = model(noisy_images, t)\n",
    "\n",
    "        # Reset gradients.\n",
    "        optimizer.zero_grad()\n",
    "\n",
    "        # Calculate loss and gradients.\n",
    "        loss = loss_fn(noise, noise_predicted)\n",
    "        loss_epoch += loss\n",
    "\n",
    "        # Do back propagation.\n",
    "        loss.backward()\n",
    "\n",
    "        # Update gradients.\n",
    "        optimizer.step()\n",
    "\n",
    "    # Calculate mean loss of the epoch.\n",
    "    batches = len(dataloader)\n",
    "    loss_epoch /= batches\n",
    "\n",
    "    return loss_epoch"
   ]
  },
  {
   "attachments": {},
   "cell_type": "markdown",
   "metadata": {},
   "source": [
    "Define a function to train multiple epochs"
   ]
  },
  {
   "cell_type": "code",
   "execution_count": 22,
   "metadata": {},
   "outputs": [],
   "source": [
    "def train(model, dataloader, learning_rate, epochs, timestamps_max, use_pretrained=True):\n",
    "    \"\"\"Train the model.\"\"\"\n",
    "\n",
    "    # Losses of the training process.\n",
    "    losses = []\n",
    "\n",
    "    if use_pretrained:\n",
    "        if os.path.exists(utils.getSavedFilePath(SAVED_FILENAME_PREFIX, learning_rate)):\n",
    "            losses = load(model, learning_rate)\n",
    "            return losses\n",
    "\n",
    "    diffusion = Diffusion(timestamps_max)\n",
    "    optimizer = torch.optim.SGD(model.parameters(), learning_rate)\n",
    "    loss_fn = torch.nn.MSELoss()\n",
    "\n",
    "    # Calculate the statistics before the first epoch.\n",
    "    loss = calculateStatistics(dataloader, model, loss_fn)\n",
    "    losses.append(loss)\n",
    "\n",
    "    for _ in range(epochs):\n",
    "        loss_epoch = trainOneEpoch(model, dataloader, diffusion, optimizer, loss_fn)\n",
    "        losses.append(loss_epoch)\n",
    "\n",
    "    save(model, losses, learning_rate)\n",
    "\n",
    "    return losses"
   ]
  },
  {
   "attachments": {},
   "cell_type": "markdown",
   "metadata": {},
   "source": [
    "Train model variants."
   ]
  },
  {
   "cell_type": "code",
   "execution_count": 23,
   "metadata": {},
   "outputs": [],
   "source": [
    "variant_losses_learning_rate = []\n",
    "for variant_learning_rate in VARIANT_LEARNING_RATES:\n",
    "    # Create a model for each variant.\n",
    "    model = Model().to(DEVICE)\n",
    "\n",
    "    # Actually train the model and get the losses.\n",
    "    losses = train(model, dataloader, variant_learning_rate, EPOCHS, TIMESTAMPS)\n",
    "\n",
    "    # Record the losses.\n",
    "    variant_losses_learning_rate.append(losses)"
   ]
  },
  {
   "attachments": {},
   "cell_type": "markdown",
   "metadata": {},
   "source": [
    "Plot the training process for various learning rates."
   ]
  },
  {
   "cell_type": "code",
   "execution_count": 31,
   "metadata": {},
   "outputs": [
    {
     "data": {
      "text/plain": [
       "<matplotlib.legend.Legend at 0x17fed436940>"
      ]
     },
     "execution_count": 31,
     "metadata": {},
     "output_type": "execute_result"
    },
    {
     "data": {
      "image/png": "[encoded data removed]",
      "text/plain": [
       "<Figure size 640x480 with 1 Axes>"
      ]
     },
     "metadata": {},
     "output_type": "display_data"
    }
   ],
   "source": [
    "for losses in variant_losses_learning_rate:\n",
    "    # Detach tensors and transfer them to CPU.\n",
    "    losses_cpu = []\n",
    "    for loss in losses:\n",
    "        losses_cpu.append(loss.detach().cpu())\n",
    "\n",
    "    # Plot losses.\n",
    "    plt.plot(losses_cpu)\n",
    "\n",
    "# Add legend to the plot.\n",
    "plt.legend([f'{learning_rate} - {variant_losses_learning_rate[i][-1]:.3f}' for i, learning_rate in enumerate(VARIANT_LEARNING_RATES)])"
   ]
  },
  {
   "attachments": {},
   "cell_type": "markdown",
   "metadata": {},
   "source": [
    "Run model training."
   ]
  },
  {
   "cell_type": "code",
   "execution_count": 25,
   "metadata": {},
   "outputs": [],
   "source": [
    "# model = Model().to(DEVICE)\n",
    "\n",
    "# losses = train(model, dataloader, LEARNING_RATE, EPOCHS, TIMESTAMPS)"
   ]
  },
  {
   "attachments": {},
   "cell_type": "markdown",
   "metadata": {},
   "source": [
    "Plot the training process."
   ]
  },
  {
   "cell_type": "code",
   "execution_count": 26,
   "metadata": {},
   "outputs": [],
   "source": [
    "# losses_cpu = []\n",
    "# for loss in losses:\n",
    "#     losses_cpu.append(loss.cpu().detach())\n",
    "\n",
    "# plt.plot(losses_cpu)"
   ]
  },
  {
   "cell_type": "code",
   "execution_count": 27,
   "metadata": {},
   "outputs": [],
   "source": [
    "# diffusion = Diffusion(TIMESTAMPS)\n",
    "# noise = torch.randn((1, CHANNELS, HEIGHT, WIDTH), device=DEVICE)\n",
    "# t = torch.tensor([TIMESTAMPS-1], dtype=torch.int64, device=DEVICE)\n",
    "\n",
    "# image_predicted = diffusion._p_sample_loop(model, 1, CHANNELS, HEIGHT, WIDTH, TIMESTAMPS)\n",
    "\n",
    "# fig, axs = plt.subplots(1, 2, figsize=(6, 3))\n",
    "# axs[0].imshow(noise[0].cpu().permute((1, 2, 0)), cmap=plt.cm.gray)\n",
    "# axs[1].imshow(image_predicted[0].detach().cpu().permute(1, 2, 0), cmap=plt.cm.gray)"
   ]
  },
  {
   "attachments": {},
   "cell_type": "markdown",
   "metadata": {},
   "source": [
    "## References"
   ]
  },
  {
   "attachments": {},
   "cell_type": "markdown",
   "metadata": {},
   "source": [
    "[1] Jonathan Ho, Ajay Jain and Pieter Abbeel. Denoising Diffusion Probabilistic Models. arXiv, 2020."
   ]
  }
 ],
 "metadata": {
  "kernelspec": {
   "display_name": "base",
   "language": "python",
   "name": "python3"
  },
  "language_info": {
   "codemirror_mode": {
    "name": "ipython",
    "version": 3
   },
   "file_extension": ".py",
   "mimetype": "text/x-python",
   "name": "python",
   "nbconvert_exporter": "python",
   "pygments_lexer": "ipython3",
   "version": "3.9.13"
  },
  "orig_nbformat": 4
 },
 "nbformat": 4,
 "nbformat_minor": 2
}
